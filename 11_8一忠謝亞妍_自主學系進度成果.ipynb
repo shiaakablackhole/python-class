{
  "nbformat": 4,
  "nbformat_minor": 0,
  "metadata": {
    "colab": {
      "provenance": [],
      "authorship_tag": "ABX9TyOlq+OZt4tGCsJZji5xjy1R",
      "include_colab_link": true
    },
    "kernelspec": {
      "name": "python3",
      "display_name": "Python 3"
    },
    "language_info": {
      "name": "python"
    }
  },
  "cells": [
    {
      "cell_type": "markdown",
      "metadata": {
        "id": "view-in-github",
        "colab_type": "text"
      },
      "source": [
        "<a href=\"https://colab.research.google.com/github/shiaakablackhole/python-class/blob/main/11_8%E4%B8%80%E5%BF%A0%E8%AC%9D%E4%BA%9E%E5%A6%8D_%E8%87%AA%E4%B8%BB%E5%AD%B8%E7%B3%BB%E9%80%B2%E5%BA%A6%E6%88%90%E6%9E%9C.ipynb\" target=\"_parent\"><img src=\"https://colab.research.google.com/assets/colab-badge.svg\" alt=\"Open In Colab\"/></a>"
      ]
    },
    {
      "cell_type": "markdown",
      "source": [
        "#自我介紹產生器\n",
        "\n"
      ],
      "metadata": {
        "id": "2-LjtzTdPOta"
      }
    },
    {
      "cell_type": "code",
      "source": [
        "print(\"歡迎使用自我介紹產生器\")\n",
        "name=input(\"請輸入您的名字\")\n",
        "age=input(\"請輸入您的年齡\")\n",
        "hobby=input(\"請輸入您的興趣\")\n",
        "print(\"大家好我是\"+name+\"，今年\"+age+\"歲，我很喜歡\"+hobby+\"，很高興認識大家!\")"
      ],
      "metadata": {
        "colab": {
          "base_uri": "https://localhost:8080/"
        },
        "id": "hAG8hX0ZQ0CE",
        "outputId": "238cf1be-bda6-46d6-9e26-dc65b317dfa6"
      },
      "execution_count": 3,
      "outputs": [
        {
          "output_type": "stream",
          "name": "stdout",
          "text": [
            "歡迎使用自我介紹產生器\n",
            "請輸入您的名字Sia\n",
            "請輸入您的年齡15\n",
            "請輸入您的興趣觀星\n",
            "大家好我是Sia，今年15歲，我很喜歡觀星，很高興認識大家!\n"
          ]
        }
      ]
    },
    {
      "cell_type": "markdown",
      "source": [
        "#BMI計算機"
      ],
      "metadata": {
        "id": "o1mX3O_JTnjU"
      }
    },
    {
      "cell_type": "code",
      "source": [
        "#字串string:\"文字\""
      ],
      "metadata": {
        "id": "UdGg2TQmTrWn"
      },
      "execution_count": 4,
      "outputs": []
    },
    {
      "cell_type": "code",
      "source": [
        "#整數int\n",
        "print(100)\n",
        "#浮點數float\n",
        "print(0987656789.0987654567890)"
      ],
      "metadata": {
        "colab": {
          "base_uri": "https://localhost:8080/"
        },
        "id": "WW9r7OBsVGuG",
        "outputId": "a7b9ea42-3329-4654-b1e0-059e20a5a095"
      },
      "execution_count": 6,
      "outputs": [
        {
          "output_type": "stream",
          "name": "stdout",
          "text": [
            "100\n",
            "987656789.0987655\n"
          ]
        }
      ]
    },
    {
      "cell_type": "code",
      "source": [
        "#布林值boolean\n",
        "#True 真 是\n",
        "#False 假 否"
      ],
      "metadata": {
        "id": "23akk_2XVeQk"
      },
      "execution_count": 7,
      "outputs": []
    },
    {
      "cell_type": "code",
      "source": [
        "print(True)\n",
        "print(False)"
      ],
      "metadata": {
        "colab": {
          "base_uri": "https://localhost:8080/"
        },
        "id": "147z_hB6V--s",
        "outputId": "b4826114-5423-4fb2-fffa-415f0272c32c"
      },
      "execution_count": 9,
      "outputs": [
        {
          "output_type": "stream",
          "name": "stdout",
          "text": [
            "True\n",
            "False\n"
          ]
        }
      ]
    },
    {
      "cell_type": "code",
      "source": [
        "num=100\n",
        "print(num)"
      ],
      "metadata": {
        "colab": {
          "base_uri": "https://localhost:8080/"
        },
        "id": "9c3VwjECWiYr",
        "outputId": "0081625f-4e26-4b0b-beca-db96ab4b7908"
      },
      "execution_count": 10,
      "outputs": [
        {
          "output_type": "stream",
          "name": "stdout",
          "text": [
            "100\n"
          ]
        }
      ]
    },
    {
      "cell_type": "code",
      "source": [
        "num1=4567890\n",
        "print(num1)"
      ],
      "metadata": {
        "colab": {
          "base_uri": "https://localhost:8080/"
        },
        "id": "ZPYL3CDxWsKD",
        "outputId": "e1e5401c-1279-4197-a229-c53d800191fe"
      },
      "execution_count": 11,
      "outputs": [
        {
          "output_type": "stream",
          "name": "stdout",
          "text": [
            "4567890\n"
          ]
        }
      ]
    },
    {
      "cell_type": "code",
      "source": [
        "is_male=True\n",
        "print(is_male)"
      ],
      "metadata": {
        "colab": {
          "base_uri": "https://localhost:8080/"
        },
        "id": "Hg42R8YNWms0",
        "outputId": "0e0388f8-8375-4dd8-f9de-b24311b8b378"
      },
      "execution_count": 12,
      "outputs": [
        {
          "output_type": "stream",
          "name": "stdout",
          "text": [
            "True\n"
          ]
        }
      ]
    },
    {
      "cell_type": "code",
      "source": [
        "name=\"Sia\"[1]"
      ],
      "metadata": {
        "id": "98vTTrNtXJbk"
      },
      "execution_count": 16,
      "outputs": []
    },
    {
      "cell_type": "code",
      "source": [
        "print(name)"
      ],
      "metadata": {
        "colab": {
          "base_uri": "https://localhost:8080/"
        },
        "id": "qlfAsXcvXVYz",
        "outputId": "3f01bc89-3f06-4fc8-c704-35a9ba7ab1ad"
      },
      "execution_count": 17,
      "outputs": [
        {
          "output_type": "stream",
          "name": "stdout",
          "text": [
            "i\n"
          ]
        }
      ]
    },
    {
      "cell_type": "code",
      "source": [
        "print(1_000_000)"
      ],
      "metadata": {
        "colab": {
          "base_uri": "https://localhost:8080/"
        },
        "id": "qOEXIfT6X5Xm",
        "outputId": "d569037c-1dd9-4518-88bb-d3d31b7e8c40"
      },
      "execution_count": 18,
      "outputs": [
        {
          "output_type": "stream",
          "name": "stdout",
          "text": [
            "1000000\n"
          ]
        }
      ]
    },
    {
      "cell_type": "markdown",
      "source": [
        "#資料型態轉換\n"
      ],
      "metadata": {
        "id": "RJYShXoOYBcA"
      }
    },
    {
      "cell_type": "code",
      "source": [
        "num1=float(input(\"請輸入數字1:\"))\n",
        "num2=float(input(\"請輸入數字2:\"))\n",
        "print(type(num1))\n",
        "print(type(num2))\n",
        "print(num1+num2)"
      ],
      "metadata": {
        "colab": {
          "base_uri": "https://localhost:8080/"
        },
        "id": "BrmxOcEIX_Kp",
        "outputId": "c1918a92-6706-4bb2-a4e5-006e9b9f99f9"
      },
      "execution_count": 24,
      "outputs": [
        {
          "output_type": "stream",
          "name": "stdout",
          "text": [
            "請輸入數字1:789\n",
            "請輸入數字2:68980\n",
            "<class 'float'>\n",
            "<class 'float'>\n",
            "69769.0\n"
          ]
        }
      ]
    },
    {
      "cell_type": "code",
      "source": [
        "num=str(26)\n",
        "print(type(num1))\n",
        "print(num+\"你好\")"
      ],
      "metadata": {
        "colab": {
          "base_uri": "https://localhost:8080/"
        },
        "id": "WQ4TkZsJZPi6",
        "outputId": "367b87ae-1336-4fcd-e743-9b9cce4bb14c"
      },
      "execution_count": 27,
      "outputs": [
        {
          "output_type": "stream",
          "name": "stdout",
          "text": [
            "<class 'float'>\n",
            "26你好\n"
          ]
        }
      ]
    },
    {
      "cell_type": "markdown",
      "source": [
        "#測驗二"
      ],
      "metadata": {
        "id": "SyZr1pqenJNm"
      }
    },
    {
      "cell_type": "code",
      "source": [
        "num=input(\"請輸入一個兩位數字\")\n",
        "digit1=float(num[0])\n",
        "digit2=float(num[1])\n",
        "print(type(digit1))\n",
        "print(type(digit2))\n",
        "print(digit1+digit2)"
      ],
      "metadata": {
        "colab": {
          "base_uri": "https://localhost:8080/"
        },
        "id": "VcNbZj4Mm8NZ",
        "outputId": "eb942824-000b-4e9b-fd33-254704de3645"
      },
      "execution_count": 31,
      "outputs": [
        {
          "output_type": "stream",
          "name": "stdout",
          "text": [
            "請輸入一個兩位數字78\n",
            "<class 'float'>\n",
            "<class 'float'>\n",
            "15.0\n"
          ]
        }
      ]
    }
  ]
}