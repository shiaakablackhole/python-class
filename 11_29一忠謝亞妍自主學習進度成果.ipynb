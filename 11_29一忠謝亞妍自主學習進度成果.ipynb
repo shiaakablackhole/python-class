{
  "nbformat": 4,
  "nbformat_minor": 0,
  "metadata": {
    "colab": {
      "provenance": [],
      "authorship_tag": "ABX9TyOaXMJU/ELCEJqUcd7iDVGG",
      "include_colab_link": true
    },
    "kernelspec": {
      "name": "python3",
      "display_name": "Python 3"
    },
    "language_info": {
      "name": "python"
    }
  },
  "cells": [
    {
      "cell_type": "markdown",
      "metadata": {
        "id": "view-in-github",
        "colab_type": "text"
      },
      "source": [
        "<a href=\"https://colab.research.google.com/github/shiaakablackhole/python-class/blob/main/11_29%E4%B8%80%E5%BF%A0%E8%AC%9D%E4%BA%9E%E5%A6%8D%E8%87%AA%E4%B8%BB%E5%AD%B8%E7%BF%92%E9%80%B2%E5%BA%A6%E6%88%90%E6%9E%9C.ipynb\" target=\"_parent\"><img src=\"https://colab.research.google.com/assets/colab-badge.svg\" alt=\"Open In Colab\"/></a>"
      ]
    },
    {
      "cell_type": "code",
      "execution_count": 1,
      "metadata": {
        "colab": {
          "base_uri": "https://localhost:8080/"
        },
        "id": "K9d1WeJlYvDJ",
        "outputId": "fc3636f7-f541-4295-ba40-14e22c4bf5f4"
      },
      "outputs": [
        {
          "output_type": "stream",
          "name": "stdout",
          "text": [
            "你給我100元\n"
          ]
        }
      ],
      "source": [
        "score1=80\n",
        "if not score1>80:\n",
        "  print(\"你給我100元\")"
      ]
    },
    {
      "cell_type": "markdown",
      "source": [
        "#project_3"
      ],
      "metadata": {
        "id": "eW1Nwzk4Zerc"
      }
    },
    {
      "cell_type": "code",
      "source": [
        "print(\"歡迎使用拉麵點餐機\")\n",
        "print(\"(1)鹽味拉麵 $220\")\n",
        "print(\"(1)醬油拉麵 $240\")\n",
        "print(\"(1)豚骨拉麵 $280\")\n",
        "soup=input(\"請選擇拉麵口味(請輸入1 or 2 or 3)\")\n",
        "big=input(\"是否加大，豚骨口味+50$，其他口味+30$(輸入:Y or N)\")\n",
        "egg=input(\"是否加糖心蛋+30$(輸入:Y or N)\")\n",
        "pork=input(\"是否加叉燒+60$(輸入:Y or N)\")\n",
        "\n",
        "bill=0\n",
        "if soup==\"1\":\n",
        "  bill+=220\n",
        "elif soup==\"2\":\n",
        "   bill+=240\n",
        "else:\n",
        "   bill+=280\n",
        "\n",
        "if big==\"Y\":\n",
        "  if soup==\"3\":\n",
        "    bill+=50\n",
        "  else:\n",
        "    bill+=30\n",
        "\n",
        "if egg==\"Y\":\n",
        "  bill+=30\n",
        "\n",
        "if pork==\"Y\":\n",
        "  bill+=60\n",
        "\n",
        "if big==\"Y\" and egg==\"Y\" and pork==\"Y\":\n",
        "  bill-=20\n",
        "  print(f\"\\n\\n加好加滿折價$20，總金額為${bill}，感謝您的光臨\")\n",
        "else:\n",
        "    print(f\"總金額為${bill}，感謝您的光臨\")\n"
      ],
      "metadata": {
        "colab": {
          "base_uri": "https://localhost:8080/"
        },
        "id": "CGfO28aEZl9j",
        "outputId": "c3782020-fb73-4c47-c0de-8fe5e91fe7f5"
      },
      "execution_count": 2,
      "outputs": [
        {
          "output_type": "stream",
          "name": "stdout",
          "text": [
            "歡迎使用拉麵點餐機\n",
            "(1)鹽味拉麵 $220\n",
            "(1)醬油拉麵 $240\n",
            "(1)豚骨拉麵 $280\n",
            "請選擇拉麵口味(請輸入1 or 2 or 3)3\n",
            "是否加大，豚骨口味+50$，其他口味+30$(輸入:Y or N)Y\n",
            "是否加糖心蛋+30$(輸入:Y or N)N\n",
            "是否加叉燒+60$(輸入:Y or N)N\n",
            "總金額為$330，感謝您的光臨\n"
          ]
        }
      ]
    },
    {
      "cell_type": "markdown",
      "source": [
        "#綜合健康計算機"
      ],
      "metadata": {
        "id": "mJiPNF2CgB_L"
      }
    },
    {
      "cell_type": "code",
      "source": [
        "#BMR\n",
        "#TBEE"
      ],
      "metadata": {
        "id": "4uZzb77UgBxm"
      },
      "execution_count": 3,
      "outputs": []
    },
    {
      "cell_type": "markdown",
      "source": [
        "#函式(函數)Function"
      ],
      "metadata": {
        "id": "vM4vxFf3grdN"
      }
    },
    {
      "cell_type": "code",
      "source": [
        "def print_info(name,age,height):\n",
        "    print(f\"{name}今年{age}歲\")  \n",
        "    print(f\"{name}今年身高{height}公分\")  "
      ],
      "metadata": {
        "id": "jI0iLc-Hgo_G"
      },
      "execution_count": 4,
      "outputs": []
    },
    {
      "cell_type": "code",
      "source": [
        "print_info(name=\"喵\",age=33,height=156)"
      ],
      "metadata": {
        "colab": {
          "base_uri": "https://localhost:8080/"
        },
        "id": "Dcra-zzLdomp",
        "outputId": "2bdbe509-f649-48b4-ce0a-1f50809d5e37"
      },
      "execution_count": 8,
      "outputs": [
        {
          "output_type": "stream",
          "name": "stdout",
          "text": [
            "喵今年33歲\n",
            "喵今年身高156公分\n"
          ]
        }
      ]
    },
    {
      "cell_type": "code",
      "source": [
        "#print(傳入參數)"
      ],
      "metadata": {
        "id": "7UiYjsdqhd5A"
      },
      "execution_count": null,
      "outputs": []
    },
    {
      "cell_type": "code",
      "source": [],
      "metadata": {
        "id": "pjNeT34IhnOI"
      },
      "execution_count": null,
      "outputs": []
    }
  ]
}