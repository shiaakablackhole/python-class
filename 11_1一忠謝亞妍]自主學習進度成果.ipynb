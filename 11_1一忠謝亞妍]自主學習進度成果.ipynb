{
  "nbformat": 4,
  "nbformat_minor": 0,
  "metadata": {
    "colab": {
      "provenance": [],
      "authorship_tag": "ABX9TyMtVqMSF+/CiBesWHyQyAf7",
      "include_colab_link": true
    },
    "kernelspec": {
      "name": "python3",
      "display_name": "Python 3"
    },
    "language_info": {
      "name": "python"
    }
  },
  "cells": [
    {
      "cell_type": "markdown",
      "metadata": {
        "id": "view-in-github",
        "colab_type": "text"
      },
      "source": [
        "<a href=\"https://colab.research.google.com/github/shiaakablackhole/python-class/blob/main/11_1%E4%B8%80%E5%BF%A0%E8%AC%9D%E4%BA%9E%E5%A6%8D%5D%E8%87%AA%E4%B8%BB%E5%AD%B8%E7%BF%92%E9%80%B2%E5%BA%A6%E6%88%90%E6%9E%9C.ipynb\" target=\"_parent\"><img src=\"https://colab.research.google.com/assets/colab-badge.svg\" alt=\"Open In Colab\"/></a>"
      ]
    },
    {
      "cell_type": "markdown",
      "source": [
        "第一個程式"
      ],
      "metadata": {
        "id": "Zio76vDNR2jm"
      }
    },
    {
      "cell_type": "code",
      "execution_count": 2,
      "metadata": {
        "colab": {
          "base_uri": "https://localhost:8080/"
        },
        "id": "NPtQVwAoOOYs",
        "outputId": "0bdd4219-2b6d-45d6-bf52-cf0bd16541f1"
      },
      "outputs": [
        {
          "output_type": "stream",
          "name": "stdout",
          "text": [
            "Sia is a dragon\n"
          ]
        }
      ],
      "source": [
        "print(\"Sia is a dragon\")"
      ]
    },
    {
      "cell_type": "code",
      "source": [
        "print(\"  /|\")\n",
        "print(\" / |\")\n",
        "print(\"/__|\")\n"
      ],
      "metadata": {
        "colab": {
          "base_uri": "https://localhost:8080/"
        },
        "id": "phJZ5jUXQM8h",
        "outputId": "93e10aa4-837a-4504-b0c2-2a4adef5bfbd"
      },
      "execution_count": 8,
      "outputs": [
        {
          "output_type": "stream",
          "name": "stdout",
          "text": [
            "  /|\n",
            " / |\n",
            "/__|\n"
          ]
        }
      ]
    },
    {
      "cell_type": "markdown",
      "source": [
        "取得使用者輸入"
      ],
      "metadata": {
        "id": "thhWvr1ZSXjf"
      }
    },
    {
      "cell_type": "code",
      "source": [
        "input(\"請輸入您的名字\")"
      ],
      "metadata": {
        "colab": {
          "base_uri": "https://localhost:8080/",
          "height": 53
        },
        "id": "ZdOJj-nvRxPK",
        "outputId": "ef2c4199-38ff-49b7-cb1a-b233cbb05fa2"
      },
      "execution_count": 9,
      "outputs": [
        {
          "name": "stdout",
          "output_type": "stream",
          "text": [
            "請輸入您的名字Sia\n"
          ]
        },
        {
          "output_type": "execute_result",
          "data": {
            "text/plain": [
              "'Sia'"
            ],
            "application/vnd.google.colaboratory.intrinsic+json": {
              "type": "string"
            }
          },
          "metadata": {},
          "execution_count": 9
        }
      ]
    },
    {
      "cell_type": "code",
      "source": [
        "input(\"請輸入您的年紀\")"
      ],
      "metadata": {
        "colab": {
          "base_uri": "https://localhost:8080/",
          "height": 53
        },
        "id": "vh-pLldXSO0Z",
        "outputId": "076a2ca8-0190-4c43-950f-f7568760c08d"
      },
      "execution_count": 10,
      "outputs": [
        {
          "name": "stdout",
          "output_type": "stream",
          "text": [
            "請輸入您的年紀15\n"
          ]
        },
        {
          "output_type": "execute_result",
          "data": {
            "text/plain": [
              "'15'"
            ],
            "application/vnd.google.colaboratory.intrinsic+json": {
              "type": "string"
            }
          },
          "metadata": {},
          "execution_count": 10
        }
      ]
    },
    {
      "cell_type": "code",
      "source": [
        "print(input(\"請輸入你的名字\"))"
      ],
      "metadata": {
        "colab": {
          "base_uri": "https://localhost:8080/"
        },
        "id": "3az_ngD0SojU",
        "outputId": "0e18441f-9291-44cf-a405-03260fd3c47f"
      },
      "execution_count": 11,
      "outputs": [
        {
          "output_type": "stream",
          "name": "stdout",
          "text": [
            "請輸入你的名字Megan\n",
            "Megan\n"
          ]
        }
      ]
    },
    {
      "cell_type": "code",
      "source": [
        "print(\"你好\"+input(\"請輸入你的名字\"))"
      ],
      "metadata": {
        "colab": {
          "base_uri": "https://localhost:8080/"
        },
        "id": "zoMWS8ZaTH2r",
        "outputId": "e408aa64-1f61-404c-a4c9-be67d701ef32"
      },
      "execution_count": 12,
      "outputs": [
        {
          "output_type": "stream",
          "name": "stdout",
          "text": [
            "請輸入你的名字Megan\n",
            "你好Megan\n"
          ]
        }
      ]
    },
    {
      "cell_type": "markdown",
      "source": [
        " 註解 #\n",
        "\n"
      ],
      "metadata": {
        "id": "D7zkjqH-SOWS"
      }
    },
    {
      "cell_type": "code",
      "source": [
        "#下面那行會詢問您的名字並與你互動"
      ],
      "metadata": {
        "id": "SDBgBcZbUPn3"
      },
      "execution_count": 13,
      "outputs": []
    },
    {
      "cell_type": "code",
      "source": [
        "print(\"你好\"+input(\"請輸入您的名字\"))"
      ],
      "metadata": {
        "colab": {
          "base_uri": "https://localhost:8080/"
        },
        "id": "rAzwKy1kUnSm",
        "outputId": "10ab622d-ba84-4ddb-a7a2-6d3303072841"
      },
      "execution_count": 14,
      "outputs": [
        {
          "output_type": "stream",
          "name": "stdout",
          "text": [
            "請輸入您的名字咩噗\n",
            "你好咩噗\n"
          ]
        }
      ]
    },
    {
      "cell_type": "markdown",
      "source": [
        "測驗一"
      ],
      "metadata": {
        "id": "4q6lz9fgU5Y0"
      }
    },
    {
      "cell_type": "code",
      "source": [
        "print(\"你好\"+input(\"請輸入您的名字\")+\"今年\"+input(\"請問今年您幾歲\"))"
      ],
      "metadata": {
        "colab": {
          "base_uri": "https://localhost:8080/"
        },
        "id": "ZdyZ4ppqU7gb",
        "outputId": "67ae45e2-b7f0-4005-f4cc-8b81be3c9035"
      },
      "execution_count": 15,
      "outputs": [
        {
          "output_type": "stream",
          "name": "stdout",
          "text": [
            "請輸入您的名字ㄏㄏ\n",
            "請問今年您幾歲16\n",
            "你好ㄏㄏ今年16\n"
          ]
        }
      ]
    },
    {
      "cell_type": "markdown",
      "source": [
        "變數(變量)variable"
      ],
      "metadata": {
        "id": "dAOg8jBwVcy5"
      }
    },
    {
      "cell_type": "code",
      "source": [
        "name=\"Sia\""
      ],
      "metadata": {
        "id": "RxpCvOwHVjL-"
      },
      "execution_count": 16,
      "outputs": []
    },
    {
      "cell_type": "code",
      "source": [
        "print(name+\"今年16歲\")"
      ],
      "metadata": {
        "colab": {
          "base_uri": "https://localhost:8080/"
        },
        "id": "l_Ei0R_3Vzqi",
        "outputId": "c3c4ff79-ea03-4160-d1cf-31bbfc3059fe"
      },
      "execution_count": 17,
      "outputs": [
        {
          "output_type": "stream",
          "name": "stdout",
          "text": [
            "Sia今年16歲\n"
          ]
        }
      ]
    },
    {
      "cell_type": "code",
      "source": [
        "print(\"早上起床\"+name+\"今天早上吃飯糰\")"
      ],
      "metadata": {
        "colab": {
          "base_uri": "https://localhost:8080/"
        },
        "id": "fsmPvgZFWA02",
        "outputId": "a38ced74-9155-42ea-b7da-35590a48ecd7"
      },
      "execution_count": 18,
      "outputs": [
        {
          "output_type": "stream",
          "name": "stdout",
          "text": [
            "早上起床Sia今天早上吃飯糰\n"
          ]
        }
      ]
    },
    {
      "cell_type": "code",
      "source": [],
      "metadata": {
        "id": "FnFo3awwWQu2"
      },
      "execution_count": null,
      "outputs": []
    }
  ]
}