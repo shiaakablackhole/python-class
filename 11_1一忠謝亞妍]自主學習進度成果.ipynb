{
  "nbformat": 4,
  "nbformat_minor": 0,
  "metadata": {
    "colab": {
      "provenance": [],
      "authorship_tag": "ABX9TyOPYOlGAhCrO2vZURddUq16",
      "include_colab_link": true
    },
    "kernelspec": {
      "name": "python3",
      "display_name": "Python 3"
    },
    "language_info": {
      "name": "python"
    }
  },
  "cells": [
    {
      "cell_type": "markdown",
      "metadata": {
        "id": "view-in-github",
        "colab_type": "text"
      },
      "source": [
        "<a href=\"https://colab.research.google.com/github/shiaakablackhole/python-class/blob/main/11_1%E4%B8%80%E5%BF%A0%E8%AC%9D%E4%BA%9E%E5%A6%8D%5D%E8%87%AA%E4%B8%BB%E5%AD%B8%E7%BF%92%E9%80%B2%E5%BA%A6%E6%88%90%E6%9E%9C.ipynb\" target=\"_parent\"><img src=\"https://colab.research.google.com/assets/colab-badge.svg\" alt=\"Open In Colab\"/></a>"
      ]
    },
    {
      "cell_type": "markdown",
      "source": [
        "第一個程式"
      ],
      "metadata": {
        "id": "Zio76vDNR2jm"
      }
    },
    {
      "cell_type": "code",
      "execution_count": 11,
      "metadata": {
        "colab": {
          "base_uri": "https://localhost:8080/"
        },
        "id": "NPtQVwAoOOYs",
        "outputId": "42f1dbc0-35fa-4948-f852-4ca798d44b1f"
      },
      "outputs": [
        {
          "output_type": "stream",
          "name": "stdout",
          "text": [
            "Sia is a dragon\n"
          ]
        }
      ],
      "source": [
        "print(\"Sia is a dragon\")"
      ]
    },
    {
      "cell_type": "code",
      "source": [
        "print(\"  /|\")\n",
        "print(\" / |\")\n",
        "print(\"/__|\")\n"
      ],
      "metadata": {
        "colab": {
          "base_uri": "https://localhost:8080/"
        },
        "id": "phJZ5jUXQM8h",
        "outputId": "c67a688e-4ec8-4bda-cd08-5ae4d77dd90c"
      },
      "execution_count": 12,
      "outputs": [
        {
          "output_type": "stream",
          "name": "stdout",
          "text": [
            "  /|\n",
            " / |\n",
            "/__|\n"
          ]
        }
      ]
    },
    {
      "cell_type": "markdown",
      "source": [
        "取得使用者輸入"
      ],
      "metadata": {
        "id": "thhWvr1ZSXjf"
      }
    },
    {
      "cell_type": "code",
      "source": [
        "input(\"請輸入您的名字\")"
      ],
      "metadata": {
        "colab": {
          "base_uri": "https://localhost:8080/",
          "height": 55
        },
        "id": "ZdOJj-nvRxPK",
        "outputId": "21ef9786-b878-4f03-d825-c69d16cd0a01"
      },
      "execution_count": 13,
      "outputs": [
        {
          "name": "stdout",
          "output_type": "stream",
          "text": [
            "請輸入您的名字Sia\n"
          ]
        },
        {
          "output_type": "execute_result",
          "data": {
            "text/plain": [
              "'Sia'"
            ],
            "application/vnd.google.colaboratory.intrinsic+json": {
              "type": "string"
            }
          },
          "metadata": {},
          "execution_count": 13
        }
      ]
    },
    {
      "cell_type": "code",
      "source": [
        "input(\"請輸入您的年紀\")"
      ],
      "metadata": {
        "colab": {
          "base_uri": "https://localhost:8080/",
          "height": 55
        },
        "id": "vh-pLldXSO0Z",
        "outputId": "e9dd64c9-1b39-41d0-db87-8ffaf448fa15"
      },
      "execution_count": 14,
      "outputs": [
        {
          "name": "stdout",
          "output_type": "stream",
          "text": [
            "請輸入您的年紀15\n"
          ]
        },
        {
          "output_type": "execute_result",
          "data": {
            "text/plain": [
              "'15'"
            ],
            "application/vnd.google.colaboratory.intrinsic+json": {
              "type": "string"
            }
          },
          "metadata": {},
          "execution_count": 14
        }
      ]
    },
    {
      "cell_type": "code",
      "source": [
        "print(input(\"請輸入你的名字\"))"
      ],
      "metadata": {
        "colab": {
          "base_uri": "https://localhost:8080/"
        },
        "id": "3az_ngD0SojU",
        "outputId": "5e6005e1-12ee-431a-8d49-f46e7ac76a45"
      },
      "execution_count": 2,
      "outputs": [
        {
          "output_type": "stream",
          "name": "stdout",
          "text": [
            "請輸入你的名字Sia\n",
            "Sia\n"
          ]
        }
      ]
    },
    {
      "cell_type": "code",
      "source": [
        "print(\"你好\"+input(\"請輸入你的名字\"))"
      ],
      "metadata": {
        "colab": {
          "base_uri": "https://localhost:8080/"
        },
        "id": "zoMWS8ZaTH2r",
        "outputId": "c1a07c60-8127-4d8f-8df3-3a736b33b095"
      },
      "execution_count": 3,
      "outputs": [
        {
          "output_type": "stream",
          "name": "stdout",
          "text": [
            "請輸入你的名字Sia\n",
            "你好Sia\n"
          ]
        }
      ]
    },
    {
      "cell_type": "markdown",
      "source": [
        " 註解 #\n",
        "\n"
      ],
      "metadata": {
        "id": "D7zkjqH-SOWS"
      }
    },
    {
      "cell_type": "code",
      "source": [
        "#下面那行會詢問您的名字並與你互動"
      ],
      "metadata": {
        "id": "SDBgBcZbUPn3"
      },
      "execution_count": 4,
      "outputs": []
    },
    {
      "cell_type": "code",
      "source": [
        "print(\"你好\"+input(\"請輸入您的名字\"))"
      ],
      "metadata": {
        "colab": {
          "base_uri": "https://localhost:8080/"
        },
        "id": "rAzwKy1kUnSm",
        "outputId": "5fb9fbef-9146-4dec-9a71-e57d4ec14f9a"
      },
      "execution_count": 5,
      "outputs": [
        {
          "output_type": "stream",
          "name": "stdout",
          "text": [
            "請輸入您的名字Sia\n",
            "你好Sia\n"
          ]
        }
      ]
    },
    {
      "cell_type": "markdown",
      "source": [
        "測驗一"
      ],
      "metadata": {
        "id": "4q6lz9fgU5Y0"
      }
    },
    {
      "cell_type": "code",
      "source": [
        "print(\"你好\"+input(\"請輸入您的名字\")+\"今年\"+input(\"請問今年您幾歲\"))"
      ],
      "metadata": {
        "colab": {
          "base_uri": "https://localhost:8080/"
        },
        "id": "ZdyZ4ppqU7gb",
        "outputId": "53f2a3fc-93eb-43ea-cb9d-a89da5bdf2cb"
      },
      "execution_count": 6,
      "outputs": [
        {
          "output_type": "stream",
          "name": "stdout",
          "text": [
            "請輸入您的名字Sia\n",
            "請問今年您幾歲15\n",
            "你好Sia今年15\n"
          ]
        }
      ]
    },
    {
      "cell_type": "markdown",
      "source": [
        "變數(變量)variable"
      ],
      "metadata": {
        "id": "dAOg8jBwVcy5"
      }
    },
    {
      "cell_type": "code",
      "source": [
        "name=\"Sia\""
      ],
      "metadata": {
        "id": "RxpCvOwHVjL-"
      },
      "execution_count": 7,
      "outputs": []
    },
    {
      "cell_type": "code",
      "source": [
        "print(name+\"今年16歲\")"
      ],
      "metadata": {
        "colab": {
          "base_uri": "https://localhost:8080/"
        },
        "id": "l_Ei0R_3Vzqi",
        "outputId": "0f30dda1-c42d-4b41-aff5-c70a3c12d448"
      },
      "execution_count": 8,
      "outputs": [
        {
          "output_type": "stream",
          "name": "stdout",
          "text": [
            "Sia今年16歲\n"
          ]
        }
      ]
    },
    {
      "cell_type": "code",
      "source": [
        "print(\"早上起床\"+name+\"今天早上吃飯糰\")"
      ],
      "metadata": {
        "colab": {
          "base_uri": "https://localhost:8080/"
        },
        "id": "fsmPvgZFWA02",
        "outputId": "77805d48-2b6b-4a0b-f7f6-625b6dc0acd2"
      },
      "execution_count": 9,
      "outputs": [
        {
          "output_type": "stream",
          "name": "stdout",
          "text": [
            "早上起床Sia今天早上吃飯糰\n"
          ]
        }
      ]
    },
    {
      "cell_type": "code",
      "source": [
        "print(name+\"說飯糰好噁心\")"
      ],
      "metadata": {
        "id": "FnFo3awwWQu2",
        "colab": {
          "base_uri": "https://localhost:8080/"
        },
        "outputId": "951bff27-cb12-485f-8ef1-e155bd1f00bd"
      },
      "execution_count": 10,
      "outputs": [
        {
          "output_type": "stream",
          "name": "stdout",
          "text": [
            "Sia說飯糰好噁心\n"
          ]
        }
      ]
    },
    {
      "cell_type": "code",
      "source": [
        "print(\"剛剛\"+name+\"去遛狗\")"
      ],
      "metadata": {
        "colab": {
          "base_uri": "https://localhost:8080/"
        },
        "id": "gFkmvPZgfGIa",
        "outputId": "abad6887-0fab-4e7d-9bf6-b9f23b089e6d"
      },
      "execution_count": 15,
      "outputs": [
        {
          "output_type": "stream",
          "name": "stdout",
          "text": [
            "剛剛Sia去遛狗\n"
          ]
        }
      ]
    },
    {
      "cell_type": "code",
      "source": [
        "age=input(\"請輸入您的年紀\")"
      ],
      "metadata": {
        "colab": {
          "base_uri": "https://localhost:8080/"
        },
        "id": "p0LdBwRefSYQ",
        "outputId": "7d6b3f1e-265d-4c45-8bef-77d8dfccf0dd"
      },
      "execution_count": 16,
      "outputs": [
        {
          "name": "stdout",
          "output_type": "stream",
          "text": [
            "請輸入您的年紀15\n"
          ]
        }
      ]
    },
    {
      "cell_type": "code",
      "source": [
        "print(age)\n",
        "print(age)"
      ],
      "metadata": {
        "colab": {
          "base_uri": "https://localhost:8080/"
        },
        "id": "C4kmQeqRffo-",
        "outputId": "31bbf110-3bab-4be0-a333-05125326a7ee"
      },
      "execution_count": 18,
      "outputs": [
        {
          "output_type": "stream",
          "name": "stdout",
          "text": [
            "15\n",
            "15\n"
          ]
        }
      ]
    },
    {
      "cell_type": "code",
      "source": [
        "score=50\n",
        "print(score)\n",
        "score=80\n",
        "print(score)"
      ],
      "metadata": {
        "colab": {
          "base_uri": "https://localhost:8080/"
        },
        "id": "rjEawXF6fvKM",
        "outputId": "bfaf3877-a712-488e-db5f-933d78319ad9"
      },
      "execution_count": 20,
      "outputs": [
        {
          "output_type": "stream",
          "name": "stdout",
          "text": [
            "50\n",
            "80\n"
          ]
        }
      ]
    },
    {
      "cell_type": "code",
      "source": [
        "#變數命名規則 \n",
        "#1.只能是數字,字母,_的組合\n",
        "#2.開頭不能是數字\n",
        "#3.不能是關鍵字"
      ],
      "metadata": {
        "id": "RoPuLDT0gFLS"
      },
      "execution_count": 21,
      "outputs": []
    },
    {
      "cell_type": "code",
      "source": [
        "+fjojd=40"
      ],
      "metadata": {
        "colab": {
          "base_uri": "https://localhost:8080/",
          "height": 136
        },
        "id": "o6MEwth4f2sj",
        "outputId": "3a3f4b9d-da91-4ea1-9953-c581ec7fbd2d"
      },
      "execution_count": 23,
      "outputs": [
        {
          "output_type": "error",
          "ename": "SyntaxError",
          "evalue": "ignored",
          "traceback": [
            "\u001b[0;36m  File \u001b[0;32m\"<ipython-input-23-34224fd817f8>\"\u001b[0;36m, line \u001b[0;32m1\u001b[0m\n\u001b[0;31m    +fjojd=40\u001b[0m\n\u001b[0m             ^\u001b[0m\n\u001b[0;31mSyntaxError\u001b[0m\u001b[0;31m:\u001b[0m can't assign to operator\n"
          ]
        }
      ]
    },
    {
      "cell_type": "code",
      "source": [
        "if=5839"
      ],
      "metadata": {
        "colab": {
          "base_uri": "https://localhost:8080/",
          "height": 136
        },
        "id": "ErISi52hg07o",
        "outputId": "ae0e852c-474d-4ac3-8c37-b832285f9791"
      },
      "execution_count": 24,
      "outputs": [
        {
          "output_type": "error",
          "ename": "SyntaxError",
          "evalue": "ignored",
          "traceback": [
            "\u001b[0;36m  File \u001b[0;32m\"<ipython-input-24-4ca3eadb7931>\"\u001b[0;36m, line \u001b[0;32m1\u001b[0m\n\u001b[0;31m    if=5839\u001b[0m\n\u001b[0m      ^\u001b[0m\n\u001b[0;31mSyntaxError\u001b[0m\u001b[0;31m:\u001b[0m invalid syntax\n"
          ]
        }
      ]
    },
    {
      "cell_type": "markdown",
      "source": [
        "測驗二"
      ],
      "metadata": {
        "id": "GhHkPNhXhbjX"
      }
    },
    {
      "cell_type": "code",
      "source": [
        "number1=input(\"請輸入第一個數字\")"
      ],
      "metadata": {
        "colab": {
          "base_uri": "https://localhost:8080/"
        },
        "id": "fxda8yTfg6G9",
        "outputId": "12cbf67e-af97-4e3a-b8ea-755dbc66fc24"
      },
      "execution_count": 28,
      "outputs": [
        {
          "name": "stdout",
          "output_type": "stream",
          "text": [
            "請輸入第一個數字5\n"
          ]
        }
      ]
    },
    {
      "cell_type": "code",
      "source": [
        "number2=input(\"請輸入第二個數字\")"
      ],
      "metadata": {
        "colab": {
          "base_uri": "https://localhost:8080/"
        },
        "id": "VsKi6_8WhlNg",
        "outputId": "6f37aaee-471a-4c3d-c9bd-78f00e7e83eb"
      },
      "execution_count": 29,
      "outputs": [
        {
          "name": "stdout",
          "output_type": "stream",
          "text": [
            "請輸入第二個數字2\n"
          ]
        }
      ]
    },
    {
      "cell_type": "code",
      "source": [
        "temp=number1\n",
        "number1=number2\n",
        "number2=temp"
      ],
      "metadata": {
        "id": "n8iM5aoXhtfX"
      },
      "execution_count": 43,
      "outputs": []
    },
    {
      "cell_type": "code",
      "source": [
        "print(number1)\n",
        "print(number2)"
      ],
      "metadata": {
        "colab": {
          "base_uri": "https://localhost:8080/"
        },
        "id": "_hSO5g45iZPt",
        "outputId": "5f5cb0f5-554e-4857-8e9b-a314370f7382"
      },
      "execution_count": 44,
      "outputs": [
        {
          "output_type": "stream",
          "name": "stdout",
          "text": [
            "2\n",
            "2\n"
          ]
        }
      ]
    },
    {
      "cell_type": "code",
      "source": [
        "#總結:colab真是ㄉ"
      ],
      "metadata": {
        "id": "dtgt_DhCj0Y_"
      },
      "execution_count": null,
      "outputs": []
    },
    {
      "cell_type": "code",
      "source": [
        "#今日完"
      ],
      "metadata": {
        "id": "IwAsJXdEj69y"
      },
      "execution_count": null,
      "outputs": []
    }
  ]
}