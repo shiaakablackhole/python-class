{
  "nbformat": 4,
  "nbformat_minor": 0,
  "metadata": {
    "colab": {
      "provenance": [],
      "collapsed_sections": [],
      "authorship_tag": "ABX9TyNYivZrOdkGUEMiVWPja2ji",
      "include_colab_link": true
    },
    "kernelspec": {
      "name": "python3",
      "display_name": "Python 3"
    },
    "language_info": {
      "name": "python"
    }
  },
  "cells": [
    {
      "cell_type": "markdown",
      "metadata": {
        "id": "view-in-github",
        "colab_type": "text"
      },
      "source": [
        "<a href=\"https://colab.research.google.com/github/shiaakablackhole/python-class/blob/main/11_15%E4%B8%80%E4%B8%AD%E8%AC%9D%E4%BA%9E%E5%A6%8D_%E8%87%AA%E4%B8%BB%E5%AD%B8%E7%BF%92%E6%88%90%E6%9E%9C.ipynb\" target=\"_parent\"><img src=\"https://colab.research.google.com/assets/colab-badge.svg\" alt=\"Open In Colab\"/></a>"
      ]
    },
    {
      "cell_type": "markdown",
      "source": [
        "#一些字串用法"
      ],
      "metadata": {
        "id": "Xj1z_FS-SREo"
      }
    },
    {
      "cell_type": "code",
      "execution_count": null,
      "metadata": {
        "colab": {
          "base_uri": "https://localhost:8080/"
        },
        "id": "E5WNLb3yRhDk",
        "outputId": "316f87f1-67e8-4df5-e6b4-bb7c711e0b3c"
      },
      "outputs": [
        {
          "output_type": "stream",
          "name": "stdout",
          "text": [
            "今年\"25\"歲\n"
          ]
        }
      ],
      "source": [
        "print('今年\"25\"歲')"
      ]
    },
    {
      "cell_type": "code",
      "source": [
        "print('今年\\\"25\\\"歲')"
      ],
      "metadata": {
        "colab": {
          "base_uri": "https://localhost:8080/"
        },
        "id": "3mBSkc53SpmJ",
        "outputId": "564b2c63-46c8-4b71-c1e0-57c7c73d0150"
      },
      "execution_count": null,
      "outputs": [
        {
          "output_type": "stream",
          "name": "stdout",
          "text": [
            "今年\"25\"歲\n"
          ]
        }
      ]
    },
    {
      "cell_type": "code",
      "source": [
        "print(\"大家好我是Sia\\n今天天氣真好\")\n",
        "input('請輸入您的名字\\n')"
      ],
      "metadata": {
        "id": "9tlv8PhVS3BC",
        "colab": {
          "base_uri": "https://localhost:8080/",
          "height": 110
        },
        "outputId": "328fd528-0ee8-4fcd-e5aa-ff315f71f501"
      },
      "execution_count": 5,
      "outputs": [
        {
          "name": "stdout",
          "output_type": "stream",
          "text": [
            "大家好我是Sia\n",
            "今天天氣真好\n",
            "請輸入您的名字\n",
            "dd\n"
          ]
        },
        {
          "output_type": "execute_result",
          "data": {
            "text/plain": [
              "'dd'"
            ],
            "application/vnd.google.colaboratory.intrinsic+json": {
              "type": "string"
            }
          },
          "metadata": {},
          "execution_count": 5
        }
      ]
    },
    {
      "cell_type": "code",
      "source": [
        "age=15\n",
        "height=165\n",
        "is_female=True"
      ],
      "metadata": {
        "id": "VtXWFpvYToOS"
      },
      "execution_count": 4,
      "outputs": []
    },
    {
      "cell_type": "code",
      "source": [
        "print(f\"Sia今年{age}歲，身高{height}，是否為女性:{is_female}\")"
      ],
      "metadata": {
        "colab": {
          "base_uri": "https://localhost:8080/"
        },
        "id": "1MCohp0ST1xu",
        "outputId": "3cb17617-c9b4-480d-8cfb-e1ea96347733"
      },
      "execution_count": 8,
      "outputs": [
        {
          "output_type": "stream",
          "name": "stdout",
          "text": [
            "Sia今年15歲，身高165，是否為女性:True\n"
          ]
        }
      ]
    },
    {
      "cell_type": "markdown",
      "source": [
        "#運算符號、數字用法"
      ],
      "metadata": {
        "id": "V-N5BkC9U52y"
      }
    },
    {
      "cell_type": "code",
      "source": [
        "print(2*3)"
      ],
      "metadata": {
        "colab": {
          "base_uri": "https://localhost:8080/"
        },
        "id": "NRAK23l1U9uL",
        "outputId": "ef0c6eb1-0008-43c2-bd25-7f13716cc9fb"
      },
      "execution_count": 9,
      "outputs": [
        {
          "output_type": "stream",
          "name": "stdout",
          "text": [
            "6\n"
          ]
        }
      ]
    },
    {
      "cell_type": "code",
      "source": [
        "print(6/3)"
      ],
      "metadata": {
        "colab": {
          "base_uri": "https://localhost:8080/"
        },
        "id": "xc1p_THET1ot",
        "outputId": "041cc02a-269c-4bb1-fa6e-66eeb0026aca"
      },
      "execution_count": 10,
      "outputs": [
        {
          "output_type": "stream",
          "name": "stdout",
          "text": [
            "2.0\n"
          ]
        }
      ]
    },
    {
      "cell_type": "code",
      "source": [
        "print(7//3)\n",
        "#整數除法"
      ],
      "metadata": {
        "colab": {
          "base_uri": "https://localhost:8080/"
        },
        "id": "ZFmN9t4OVUHK",
        "outputId": "b1628579-b324-4d20-d04d-02146306d30c"
      },
      "execution_count": 11,
      "outputs": [
        {
          "output_type": "stream",
          "name": "stdout",
          "text": [
            "2\n"
          ]
        }
      ]
    },
    {
      "cell_type": "code",
      "source": [
        "print(2**3)\n",
        "#次方運算"
      ],
      "metadata": {
        "colab": {
          "base_uri": "https://localhost:8080/"
        },
        "id": "OpxFItI8Va6K",
        "outputId": "06061a84-0fba-4d8e-e2f2-6e5736d9469b"
      },
      "execution_count": 12,
      "outputs": [
        {
          "output_type": "stream",
          "name": "stdout",
          "text": [
            "8\n"
          ]
        }
      ]
    },
    {
      "cell_type": "code",
      "source": [
        "print(2%5)\n",
        "#取餘數\n"
      ],
      "metadata": {
        "colab": {
          "base_uri": "https://localhost:8080/"
        },
        "id": "7oT2RNBnVjse",
        "outputId": "40cf3caf-ff4d-4f17-b37e-b07f620e7613"
      },
      "execution_count": 13,
      "outputs": [
        {
          "output_type": "stream",
          "name": "stdout",
          "text": [
            "2\n"
          ]
        }
      ]
    },
    {
      "cell_type": "code",
      "source": [
        "print(6+81*678/485)\n",
        "#有先乘除後加減"
      ],
      "metadata": {
        "colab": {
          "base_uri": "https://localhost:8080/"
        },
        "id": "GeM8FcDaVvho",
        "outputId": "92466fe7-551b-4e2a-f3cd-76af51303efb"
      },
      "execution_count": 14,
      "outputs": [
        {
          "output_type": "stream",
          "name": "stdout",
          "text": [
            "119.23298969072165\n"
          ]
        }
      ]
    },
    {
      "cell_type": "code",
      "source": [
        "print(33+887//3**3)"
      ],
      "metadata": {
        "colab": {
          "base_uri": "https://localhost:8080/"
        },
        "id": "Jwl7uYZVV9vp",
        "outputId": "14cdc8bc-9e74-422e-80d6-891052d02e76"
      },
      "execution_count": 16,
      "outputs": [
        {
          "output_type": "stream",
          "name": "stdout",
          "text": [
            "65\n"
          ]
        }
      ]
    },
    {
      "cell_type": "code",
      "source": [
        "#順序\n",
        "#1()\n",
        "#2.** //\n",
        "#3.* / %\n",
        "#4.+ -"
      ],
      "metadata": {
        "id": "wvzY4H4kWLG_"
      },
      "execution_count": 17,
      "outputs": []
    },
    {
      "cell_type": "code",
      "source": [
        "print(round(4/3,4))\n",
        "print(round(1.33333,2))"
      ],
      "metadata": {
        "colab": {
          "base_uri": "https://localhost:8080/"
        },
        "id": "kiPTZjf6Won7",
        "outputId": "e5fa4a2a-5a3c-4064-ad69-e4690c03a5ab"
      },
      "execution_count": 20,
      "outputs": [
        {
          "output_type": "stream",
          "name": "stdout",
          "text": [
            "1.3333\n",
            "1.33\n"
          ]
        }
      ]
    },
    {
      "cell_type": "code",
      "source": [
        "num=10\n",
        "num*=2\n",
        "print(num)"
      ],
      "metadata": {
        "colab": {
          "base_uri": "https://localhost:8080/"
        },
        "id": "qwjGeVt4XLQp",
        "outputId": "086ded8b-2a28-458f-9448-57759a66fb13"
      },
      "execution_count": 23,
      "outputs": [
        {
          "output_type": "stream",
          "name": "stdout",
          "text": [
            "20\n"
          ]
        }
      ]
    },
    {
      "cell_type": "markdown",
      "source": [
        "#BMI計算機\n"
      ],
      "metadata": {
        "id": "z3UKuy0TYESp"
      }
    },
    {
      "cell_type": "code",
      "source": [
        "height=float(input(\"請輸入您的身高(公分)\\n\"))\n",
        "weight=float(input(\"寢輸入您的體重(公斤)\\n\"))"
      ],
      "metadata": {
        "colab": {
          "base_uri": "https://localhost:8080/"
        },
        "id": "XQMpuC_LYOa_",
        "outputId": "df83e10d-9d33-4b56-c552-1b98c21e9798"
      },
      "execution_count": 24,
      "outputs": [
        {
          "name": "stdout",
          "output_type": "stream",
          "text": [
            "請輸入您的身高(公分)\n",
            "165\n",
            "寢輸入您的體重(公斤)\n",
            "68\n"
          ]
        }
      ]
    },
    {
      "cell_type": "code",
      "source": [
        "height=height/100"
      ],
      "metadata": {
        "id": "LysnnIDrY0z9"
      },
      "execution_count": 25,
      "outputs": []
    },
    {
      "cell_type": "code",
      "source": [
        "BMI=weight/height**2"
      ],
      "metadata": {
        "id": "7UiFUzVTYkFc"
      },
      "execution_count": 26,
      "outputs": []
    },
    {
      "cell_type": "code",
      "source": [
        "BMI=round(BMI,1)"
      ],
      "metadata": {
        "id": "DBjLEvHLZPki"
      },
      "execution_count": 28,
      "outputs": []
    },
    {
      "cell_type": "code",
      "source": [
        "print(f\"您的BMI是:{BMI}\")"
      ],
      "metadata": {
        "colab": {
          "base_uri": "https://localhost:8080/"
        },
        "id": "5v5_wCiGY6WW",
        "outputId": "3627eff0-5533-4720-85be-d3736d7342e7"
      },
      "execution_count": 29,
      "outputs": [
        {
          "output_type": "stream",
          "name": "stdout",
          "text": [
            "您的BMI是:25.0\n"
          ]
        }
      ]
    },
    {
      "cell_type": "markdown",
      "source": [
        "#點餐系統"
      ],
      "metadata": {
        "id": "GdY2SQa5Zis0"
      }
    },
    {
      "cell_type": "markdown",
      "source": [
        "#if語句"
      ],
      "metadata": {
        "id": "WsWgaMSvaX1y"
      }
    },
    {
      "cell_type": "code",
      "source": [
        "is_rainy=False"
      ],
      "metadata": {
        "id": "qWM2mKIYazi0"
      },
      "execution_count": 35,
      "outputs": []
    },
    {
      "cell_type": "code",
      "source": [
        "if is_rainy:\n",
        " print(\"我就開車去上班\")\n",
        "else:\n",
        " print(\"我就走路去上班\")"
      ],
      "metadata": {
        "colab": {
          "base_uri": "https://localhost:8080/"
        },
        "id": "BjdlGfjcadxO",
        "outputId": "48fc7725-99af-4853-8234-b7f79be118d7"
      },
      "execution_count": 36,
      "outputs": [
        {
          "output_type": "stream",
          "name": "stdout",
          "text": [
            "我就走路去上班\n"
          ]
        }
      ]
    },
    {
      "cell_type": "code",
      "source": [
        "score=80\n",
        "print(score>=60)"
      ],
      "metadata": {
        "colab": {
          "base_uri": "https://localhost:8080/"
        },
        "id": "z2sVtQ0YbuKj",
        "outputId": "5f4c4db9-fa03-48e9-bddf-a1ebcfae10db"
      },
      "execution_count": 41,
      "outputs": [
        {
          "output_type": "stream",
          "name": "stdout",
          "text": [
            "True\n"
          ]
        }
      ]
    },
    {
      "cell_type": "code",
      "source": [
        "if score>=60:\n",
        "  print(\"今天準備吃好料\")\n",
        "else:\n",
        "  print(\"今天準備罰跪\")"
      ],
      "metadata": {
        "colab": {
          "base_uri": "https://localhost:8080/"
        },
        "id": "cYTcAse6bq7d",
        "outputId": "20f061c6-90bb-4905-bfed-e4a68528e919"
      },
      "execution_count": 40,
      "outputs": [
        {
          "output_type": "stream",
          "name": "stdout",
          "text": [
            "今天準備吃好料\n"
          ]
        }
      ]
    },
    {
      "cell_type": "code",
      "source": [
        "name=\"林鮭魚\"\n",
        "print(name!=\"林鮭魚\")\n",
        "#!=為不相等於"
      ],
      "metadata": {
        "colab": {
          "base_uri": "https://localhost:8080/"
        },
        "id": "QxWFGXSxcxeX",
        "outputId": "b9b421a0-1bd2-4851-8afe-78626537e575"
      },
      "execution_count": 50,
      "outputs": [
        {
          "output_type": "stream",
          "name": "stdout",
          "text": [
            "False\n"
          ]
        }
      ]
    },
    {
      "cell_type": "code",
      "source": [
        "if name==\"林鮭魚\":\n",
        "  print(\"鮭魚免費吃到飽\")\n",
        "else:\n",
        "  print(\"請付錢\")"
      ],
      "metadata": {
        "colab": {
          "base_uri": "https://localhost:8080/"
        },
        "id": "QdTrLH9Hc2-Z",
        "outputId": "b950c07f-19f1-4af3-f751-bee606b2fe65"
      },
      "execution_count": 48,
      "outputs": [
        {
          "output_type": "stream",
          "name": "stdout",
          "text": [
            "鮭魚免費吃到飽\n"
          ]
        }
      ]
    }
  ]
}