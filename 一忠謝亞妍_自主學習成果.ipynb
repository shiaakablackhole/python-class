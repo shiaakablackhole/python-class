{
  "nbformat": 4,
  "nbformat_minor": 0,
  "metadata": {
    "colab": {
      "provenance": [],
      "authorship_tag": "ABX9TyOjXUpWpjGYxDykhtrq46Yu",
      "include_colab_link": true
    },
    "kernelspec": {
      "name": "python3",
      "display_name": "Python 3"
    },
    "language_info": {
      "name": "python"
    }
  },
  "cells": [
    {
      "cell_type": "markdown",
      "metadata": {
        "id": "view-in-github",
        "colab_type": "text"
      },
      "source": [
        "<a href=\"https://colab.research.google.com/github/shiaakablackhole/python-class/blob/main/%E4%B8%80%E5%BF%A0%E8%AC%9D%E4%BA%9E%E5%A6%8D_%E8%87%AA%E4%B8%BB%E5%AD%B8%E7%BF%92%E6%88%90%E6%9E%9C.ipynb\" target=\"_parent\"><img src=\"https://colab.research.google.com/assets/colab-badge.svg\" alt=\"Open In Colab\"/></a>"
      ]
    },
    {
      "cell_type": "markdown",
      "source": [
        "#自主學習總成果"
      ],
      "metadata": {
        "id": "1h7fEaRnqk41"
      }
    },
    {
      "cell_type": "code",
      "source": [
        "print(\"這是一年忠班Sia(謝亞妍)做的111學年度上學期自主學習成果報告\")"
      ],
      "metadata": {
        "colab": {
          "base_uri": "https://localhost:8080/"
        },
        "id": "QJIyehAeu7w2",
        "outputId": "5565d246-cbde-4733-8689-28514e393bbb"
      },
      "execution_count": 4,
      "outputs": [
        {
          "output_type": "stream",
          "name": "stdout",
          "text": [
            "這是一年忠班Sia(謝亞妍)做的111學年度上學期自主學習成果報告\n"
          ]
        }
      ]
    },
    {
      "cell_type": "code",
      "source": [
        "botton=input('請打\"start\"已開始此程式')\n",
        "if botton==\"start\":\n",
        "  print(\"本學期從0開始學python，本人其實有在上個暑假學習過AI深度學習課程，\\n但是在基礎未搞懂的情況下使用python來操作，許多程式碼都看不懂，\\n而決定要自己學習python基礎\")\n",
        "else :\n",
        "  print(\"您有錯字或輸入錯單字\")\n"
      ],
      "metadata": {
        "colab": {
          "base_uri": "https://localhost:8080/"
        },
        "id": "6_esA5W3qrr8",
        "outputId": "e49ab168-e63b-485d-c80c-7cc2775aad99"
      },
      "execution_count": 5,
      "outputs": [
        {
          "output_type": "stream",
          "name": "stdout",
          "text": [
            "請打\"start\"已開始此程式start\n",
            "本學期從0開始學python，本人其實有在上個暑假學習過AI深度學習課程，\n",
            "但是在基礎未搞懂的情況下使用python來操作，許多程式碼都看不懂，\n",
            "而決定要自己學習python基礎\n"
          ]
        }
      ]
    },
    {
      "cell_type": "code",
      "source": [
        "next=input('請打\"continue\"繼續程式執行')\n",
        "if next==\"continue\":\n",
        "  print('在這之前，要先感謝\"GrandmaCan -我阿嬤都會\"給我一個可以免費學習python基礎的教材影片可以學習')\n",
        "else:\n",
        "  print(\"您有輸入錯字\")"
      ],
      "metadata": {
        "colab": {
          "base_uri": "https://localhost:8080/"
        },
        "id": "Kqsv6eRYvqT2",
        "outputId": "b04c08d4-4cc3-49f0-db6d-a7aab7bb4d31"
      },
      "execution_count": 6,
      "outputs": [
        {
          "output_type": "stream",
          "name": "stdout",
          "text": [
            "請打\"continue\"繼續程式執行continue\n",
            "在這之前，要先感謝\"GrandmaCan -我阿嬤都會\"給我一個可以免費學習python基礎的教材影片可以學習\n"
          ]
        }
      ]
    },
    {
      "cell_type": "code",
      "source": [
        "next=input(\"請打'continue'看'這堂課之前的經驗'\")"
      ],
      "metadata": {
        "colab": {
          "base_uri": "https://localhost:8080/"
        },
        "id": "1SHFMRIFyMSl",
        "outputId": "f9ca652d-03f0-48a1-a08c-f01bf43c37b7"
      },
      "execution_count": 7,
      "outputs": [
        {
          "name": "stdout",
          "output_type": "stream",
          "text": [
            "請打'continue'看'這堂課之前的經驗'continue\n"
          ]
        }
      ]
    },
    {
      "cell_type": "code",
      "source": [
        "if next==\"continue\":\n",
        "  print(\"在這堂自主學習課程開始之前，我已經有先上過使用python的AI深度學習課程，\\n那時候我還沒有特別碰過python的程式碼文法，上完深度學習課程後覺得python很有趣，\\n所以才想在自主學習這堂課打好python基礎\")\n",
        "  experience=input(\"請打'yes'繼續\")\n",
        "else:\n",
        "  experience=input(\"不執行這堂課之前經驗，請打'yes'繼續\")"
      ],
      "metadata": {
        "id": "-Jm2JIHVr8qx",
        "colab": {
          "base_uri": "https://localhost:8080/"
        },
        "outputId": "f21a3428-c6a5-4fe1-cee2-30c9cd04e98e"
      },
      "execution_count": 2,
      "outputs": [
        {
          "name": "stdout",
          "output_type": "stream",
          "text": [
            "不執行這堂課之前經驗，請打'yes'繼續yes\n"
          ]
        }
      ]
    },
    {
      "cell_type": "code",
      "source": [
        "if experience==\"yes\":\n",
        "  print(\"在這堂課開始上課後，一開始的程式，像是print、input、還有設變數，\\n都還算簡單，練習一下下就會了。\\n\")\n",
        "  print(\"影片中途也會有小測驗給我練習，也有設計專案的課程。\\n\")\n",
        "  print(\"不過到了資料型態開始，因為有很多資料型態的程式碼，\\n練習時常常忘記哪個是哪個，導致後面課程進度開始落後。在這個過程中，\\n我花最久的時間在BMI計算機上，常常因為ctrl+c打成+v，\\n所以我很常需要去重新寫一次程式碼。\")\n",
        "  print(\"但這個影片課程其實只有四個小時，\\n在上完之後還有幾堂課可以給我再複習。不過我是不用這麼多時間去練習，\\n而且在複習很快就記起來了，所以在後一堂我又再去找影片多學習其他語法。\")\n",
        "  print(\"當然因為要寫這份成果所以在倒數第二堂就結束了這個重新打好基礎的課程，雖然還有很多要學，\\n不過在學完之後自己去翻了一下之前在AI深度學習課程，開始看得懂指令為何有如此結果，真的很高興又學到了東西!\")\n",
        "else:\n",
        "  print(\"您有錯字或打不對的字\")"
      ],
      "metadata": {
        "id": "1jWOVErmsWeZ",
        "colab": {
          "base_uri": "https://localhost:8080/"
        },
        "outputId": "33d24f8a-8be1-48fe-8d30-c61ac8f7adf8"
      },
      "execution_count": 3,
      "outputs": [
        {
          "output_type": "stream",
          "name": "stdout",
          "text": [
            "在這堂課開始上課後，一開始的程式，像是print、input、還有設變數，\n",
            "都還算簡單，練習一下下就會了。\n",
            "\n",
            "影片中途也會有小測驗給我練習，也有設計專案的課程。\n",
            "\n",
            "不過到了資料型態開始，因為有很多資料型態的程式碼，\n",
            "練習時常常忘記哪個是哪個，導致後面課程進度開始落後。在這個過程中，\n",
            "我花最久的時間在BMI計算機上，常常因為ctrl+c打成+v，\n",
            "所以我很常需要去重新寫一次程式碼。\n",
            "但這個影片課程其實只有四個小時，\n",
            "在上完之後還有幾堂課可以給我再複習。不過我是不用這麼多時間去練習，\n",
            "而且在複習很快就記起來了，所以在後一堂我又再去找影片多學習其他語法。\n",
            "當然因為要寫這份成果所以在倒數第二堂就結束了這個重新打好基礎的課程，雖然還有很多要學，\n",
            "不過在學完之後自己去翻了一下之前在AI深度學習課程，開始看得懂指令為何有如此結果，真的很高興又學到了東西!\n"
          ]
        }
      ]
    },
    {
      "cell_type": "code",
      "source": [
        "print(\"  /\\_______/\\ \")\n",
        "print(\" /   o   o    \\ \")\n",
        "print(\"/      w       \\ 最後用一隻可愛的貓貓結束~\")"
      ],
      "metadata": {
        "id": "pUMYHICZsWbM",
        "colab": {
          "base_uri": "https://localhost:8080/"
        },
        "outputId": "ad9503fc-c49f-460b-a6b2-d9b949e2edd8"
      },
      "execution_count": 14,
      "outputs": [
        {
          "output_type": "stream",
          "name": "stdout",
          "text": [
            "  /\\_______/\\ \n",
            " /   o   o    \\ \n",
            "/      w       \\ 最後用一隻可愛的貓貓結束~\n"
          ]
        }
      ]
    },
    {
      "cell_type": "code",
      "source": [],
      "metadata": {
        "id": "nZikq2RZsWXA"
      },
      "execution_count": null,
      "outputs": []
    },
    {
      "cell_type": "code",
      "source": [],
      "metadata": {
        "colab": {
          "base_uri": "https://localhost:8080/"
        },
        "id": "XMj9mTEdt-h7",
        "outputId": "db597699-3fca-4eb6-cf9e-36f5e9e73630"
      },
      "execution_count": null,
      "outputs": [
        {
          "output_type": "stream",
          "name": "stdout",
          "text": [
            "False\n"
          ]
        }
      ]
    }
  ]
}