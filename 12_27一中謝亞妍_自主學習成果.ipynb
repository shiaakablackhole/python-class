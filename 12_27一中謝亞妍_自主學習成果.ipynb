{
  "nbformat": 4,
  "nbformat_minor": 0,
  "metadata": {
    "colab": {
      "provenance": [],
      "authorship_tag": "ABX9TyPGNzkSykJS/Az6dH+BvUky",
      "include_colab_link": true
    },
    "kernelspec": {
      "name": "python3",
      "display_name": "Python 3"
    },
    "language_info": {
      "name": "python"
    }
  },
  "cells": [
    {
      "cell_type": "markdown",
      "metadata": {
        "id": "view-in-github",
        "colab_type": "text"
      },
      "source": [
        "<a href=\"https://colab.research.google.com/github/shiaakablackhole/python-class/blob/main/12_27%E4%B8%80%E4%B8%AD%E8%AC%9D%E4%BA%9E%E5%A6%8D_%E8%87%AA%E4%B8%BB%E5%AD%B8%E7%BF%92%E6%88%90%E6%9E%9C.ipynb\" target=\"_parent\"><img src=\"https://colab.research.google.com/assets/colab-badge.svg\" alt=\"Open In Colab\"/></a>"
      ]
    },
    {
      "cell_type": "markdown",
      "source": [
        "#字典"
      ],
      "metadata": {
        "id": "XQJWiGFPo5oX"
      }
    },
    {
      "cell_type": "code",
      "execution_count": 1,
      "metadata": {
        "id": "rSbezKl5m3w0"
      },
      "outputs": [],
      "source": [
        "#dictionary字典\n",
        "#key value\n",
        "#鍵  值"
      ]
    },
    {
      "cell_type": "code",
      "source": [
        "dic={\"太陽\":\"Sun\",\"水星\":\"Mercury\",\"金星\":\"Venus\",\"地球\":\"Earth\",\"火星\":\"Mars\",\"超大質量黑洞\":\"super massive black hole\"}"
      ],
      "metadata": {
        "id": "Ae3oi4qloCmT"
      },
      "execution_count": 5,
      "outputs": []
    },
    {
      "cell_type": "code",
      "source": [
        "print(dic[\"太陽\"])"
      ],
      "metadata": {
        "colab": {
          "base_uri": "https://localhost:8080/"
        },
        "id": "dXUXMN0Ooo4u",
        "outputId": "ac100e22-806c-4f6c-b1c6-094763436a36"
      },
      "execution_count": 6,
      "outputs": [
        {
          "output_type": "stream",
          "name": "stdout",
          "text": [
            "Sun\n"
          ]
        }
      ]
    },
    {
      "cell_type": "markdown",
      "source": [
        "#while迴圈"
      ],
      "metadata": {
        "id": "rfS8n6tTo_7O"
      }
    },
    {
      "cell_type": "code",
      "source": [
        "i=1\n",
        "while i<=5:\n",
        "  print(i)\n",
        "  i+=1\n",
        "\n",
        "print(\"迴圈結束\")"
      ],
      "metadata": {
        "colab": {
          "base_uri": "https://localhost:8080/"
        },
        "id": "0ETAmyY2o9lP",
        "outputId": "cc786ca5-339b-4bcf-d5aa-1a0459583d94"
      },
      "execution_count": 7,
      "outputs": [
        {
          "output_type": "stream",
          "name": "stdout",
          "text": [
            "1\n",
            "2\n",
            "3\n",
            "4\n",
            "5\n",
            "迴圈結束\n"
          ]
        }
      ]
    },
    {
      "cell_type": "code",
      "source": [
        "#猜數字遊戲"
      ],
      "metadata": {
        "id": "j7nWwUynppXI"
      },
      "execution_count": null,
      "outputs": []
    },
    {
      "cell_type": "code",
      "source": [
        "secret_num=77\n",
        "guess=None\n",
        "guess_count=0\n",
        "guess_limit=3\n",
        "out_of_limit=False"
      ],
      "metadata": {
        "id": "L_QoK91YpvGx"
      },
      "execution_count": 29,
      "outputs": []
    },
    {
      "cell_type": "code",
      "source": [
        "while guess!=secret_num and not(out_of_limit):\n",
        "  guess_count+=1\n",
        "  if guess_count<=guess_limit:\n",
        "    guess=int(input(\"請輸入數字\"))\n",
        "    if guess<secret_num:\n",
        "      print(\"大一點\")\n",
        "    elif guess>secret_num:\n",
        "      print(\"小一點\")\n",
        "  else:\n",
        "    out_of_limit=True\n",
        "if out_of_limit:\n",
        " print(\"泥猜太多次ㄌ安捏不行\")\n",
        "else:\n",
        " print(\"恭喜猜中:)\")"
      ],
      "metadata": {
        "colab": {
          "base_uri": "https://localhost:8080/"
        },
        "id": "seuGxkEBqy4K",
        "outputId": "b1a4a767-7f2f-413f-8fbb-ccd745cfa593"
      },
      "execution_count": 32,
      "outputs": [
        {
          "output_type": "stream",
          "name": "stdout",
          "text": [
            "泥猜太多次ㄌ安捏不行\n"
          ]
        }
      ]
    },
    {
      "cell_type": "code",
      "source": [],
      "metadata": {
        "id": "7N2Tc9pCuxGq"
      },
      "execution_count": null,
      "outputs": []
    }
  ]
}