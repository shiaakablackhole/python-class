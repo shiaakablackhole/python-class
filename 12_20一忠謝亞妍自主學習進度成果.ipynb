{
  "nbformat": 4,
  "nbformat_minor": 0,
  "metadata": {
    "colab": {
      "provenance": [],
      "authorship_tag": "ABX9TyO12TBJfyD8NEC3vvfWf9TI",
      "include_colab_link": true
    },
    "kernelspec": {
      "name": "python3",
      "display_name": "Python 3"
    },
    "language_info": {
      "name": "python"
    }
  },
  "cells": [
    {
      "cell_type": "markdown",
      "metadata": {
        "id": "view-in-github",
        "colab_type": "text"
      },
      "source": [
        "<a href=\"https://colab.research.google.com/github/shiaakablackhole/python-class/blob/main/12_20%E4%B8%80%E5%BF%A0%E8%AC%9D%E4%BA%9E%E5%A6%8D%E8%87%AA%E4%B8%BB%E5%AD%B8%E7%BF%92%E9%80%B2%E5%BA%A6%E6%88%90%E6%9E%9C.ipynb\" target=\"_parent\"><img src=\"https://colab.research.google.com/assets/colab-badge.svg\" alt=\"Open In Colab\"/></a>"
      ]
    },
    {
      "cell_type": "markdown",
      "source": [
        "#練習不太熟悉的程式碼"
      ],
      "metadata": {
        "id": "Ua4BDWw3qdY7"
      }
    },
    {
      "cell_type": "code",
      "source": [
        "#Day1測驗二測試是否程式正確"
      ],
      "metadata": {
        "id": "HqIkHJaji2Ek"
      },
      "execution_count": null,
      "outputs": []
    },
    {
      "cell_type": "code",
      "source": [
        "number1=input(\"請輸入第一個數字\")\n",
        "number2=input(\"請輸入第二個數字\")\n",
        "\n",
        "temp=number1\n",
        "number1=number2\n",
        "number2=temp\n",
        "     \n",
        "\n",
        "print(number1)\n",
        "print(number2)\n",
        "     "
      ],
      "metadata": {
        "colab": {
          "base_uri": "https://localhost:8080/"
        },
        "id": "sb8zv7SxjfDx",
        "outputId": "c5256f70-cb12-4adc-d4a5-0f54f02ce307"
      },
      "execution_count": 1,
      "outputs": [
        {
          "output_type": "stream",
          "name": "stdout",
          "text": [
            "請輸入第一個數字11\n",
            "請輸入第二個數字24\n",
            "24\n",
            "11\n"
          ]
        }
      ]
    },
    {
      "cell_type": "code",
      "source": [
        "#成功"
      ],
      "metadata": {
        "id": "_Aq9y-qOkDjw"
      },
      "execution_count": null,
      "outputs": []
    },
    {
      "cell_type": "code",
      "source": [
        "#練習陣列順序"
      ],
      "metadata": {
        "id": "inSeWMPykvYc"
      },
      "execution_count": null,
      "outputs": []
    },
    {
      "cell_type": "code",
      "source": [
        "name=\"Sia\"[2]\n",
        "print(name)\n",
        "#須記得三筆資料(三個字母)第一筆資料(第一個字母)為0"
      ],
      "metadata": {
        "colab": {
          "base_uri": "https://localhost:8080/"
        },
        "id": "Ky9XbYhikfUd",
        "outputId": "1ff17964-d43a-47da-bb28-3b538237bfc6"
      },
      "execution_count": 6,
      "outputs": [
        {
          "output_type": "stream",
          "name": "stdout",
          "text": [
            "a\n"
          ]
        }
      ]
    },
    {
      "cell_type": "code",
      "source": [
        "#完成"
      ],
      "metadata": {
        "id": "-MoJ7YShk1CW"
      },
      "execution_count": null,
      "outputs": []
    },
    {
      "cell_type": "code",
      "source": [
        "#整數除法練習"
      ],
      "metadata": {
        "id": "45kLZwwUlQwo"
      },
      "execution_count": null,
      "outputs": []
    },
    {
      "cell_type": "code",
      "source": [
        "8//26"
      ],
      "metadata": {
        "colab": {
          "base_uri": "https://localhost:8080/"
        },
        "id": "rs8OKXtPmZrG",
        "outputId": "8a8a5903-0699-4672-d747-efc8df444974"
      },
      "execution_count": 7,
      "outputs": [
        {
          "output_type": "execute_result",
          "data": {
            "text/plain": [
              "0"
            ]
          },
          "metadata": {},
          "execution_count": 7
        }
      ]
    },
    {
      "cell_type": "code",
      "source": [
        "6//4"
      ],
      "metadata": {
        "colab": {
          "base_uri": "https://localhost:8080/"
        },
        "id": "JSQcL61qmfDj",
        "outputId": "d2da7868-94ea-4e0e-cd42-fa83f69d65a9"
      },
      "execution_count": 8,
      "outputs": [
        {
          "output_type": "execute_result",
          "data": {
            "text/plain": [
              "1"
            ]
          },
          "metadata": {},
          "execution_count": 8
        }
      ]
    },
    {
      "cell_type": "code",
      "source": [
        "48763//74"
      ],
      "metadata": {
        "colab": {
          "base_uri": "https://localhost:8080/"
        },
        "id": "2mWN8tsEmhJW",
        "outputId": "11c15c61-64af-45cc-b6cb-14d98edaa974"
      },
      "execution_count": 9,
      "outputs": [
        {
          "output_type": "execute_result",
          "data": {
            "text/plain": [
              "658"
            ]
          },
          "metadata": {},
          "execution_count": 9
        }
      ]
    },
    {
      "cell_type": "code",
      "source": [
        "520//246"
      ],
      "metadata": {
        "colab": {
          "base_uri": "https://localhost:8080/"
        },
        "id": "SKuug99WmoNn",
        "outputId": "51d5bb7f-7b1d-4fe9-c071-69bb266d516a"
      },
      "execution_count": 10,
      "outputs": [
        {
          "output_type": "execute_result",
          "data": {
            "text/plain": [
              "2"
            ]
          },
          "metadata": {},
          "execution_count": 10
        }
      ]
    },
    {
      "cell_type": "code",
      "source": [
        "#完成"
      ],
      "metadata": {
        "id": "y_vCGZxOmu7X"
      },
      "execution_count": null,
      "outputs": []
    },
    {
      "cell_type": "code",
      "source": [
        "#乘法程式用法練習"
      ],
      "metadata": {
        "id": "5DN3Fz4Imuzk"
      },
      "execution_count": null,
      "outputs": []
    },
    {
      "cell_type": "code",
      "source": [
        "num=10\n",
        "num*=30\n",
        "#num*為num的乘數\n",
        "print(num)\n"
      ],
      "metadata": {
        "colab": {
          "base_uri": "https://localhost:8080/"
        },
        "id": "_yp6ir1fnUw7",
        "outputId": "24d9adcc-2f05-40a9-8041-af25a94077cd"
      },
      "execution_count": 12,
      "outputs": [
        {
          "output_type": "stream",
          "name": "stdout",
          "text": [
            "300\n"
          ]
        }
      ]
    },
    {
      "cell_type": "code",
      "source": [
        "#完成"
      ],
      "metadata": {
        "id": "ZIZvckq-nmth"
      },
      "execution_count": null,
      "outputs": []
    },
    {
      "cell_type": "code",
      "source": [
        "#懷疑round的用法:0"
      ],
      "metadata": {
        "id": "utsuwb6Joufp"
      },
      "execution_count": null,
      "outputs": []
    },
    {
      "cell_type": "code",
      "source": [
        "height=float(input(\"請輸入您的身高(公分)\\n\"))\n",
        "weight=float(input(\"寢輸入您的體重(公斤)\\n\"))\n",
        "     \n",
        "\n",
        "height=height/100\n",
        "     \n",
        "\n",
        "BMI=weight/height**2\n",
        "     \n",
        "BMI=round(BMI,1)\n",
        "\n",
        "print(f\"您的BMI是:{BMI}\")\n",
        "     "
      ],
      "metadata": {
        "colab": {
          "base_uri": "https://localhost:8080/"
        },
        "id": "IA9c7CL9oNee",
        "outputId": "8a07460b-46bc-48b1-8044-867769a2aa93"
      },
      "execution_count": 15,
      "outputs": [
        {
          "output_type": "stream",
          "name": "stdout",
          "text": [
            "請輸入您的身高(公分)\n",
            "165\n",
            "寢輸入您的體重(公斤)\n",
            "65\n",
            "您的BMI是:23.9\n"
          ]
        }
      ]
    },
    {
      "cell_type": "code",
      "source": [
        "pp=77\n",
        "pp=round(pp,1)\n",
        "print(f\"愛你{pp}\")\n",
        "#(變數,取變數小數點後幾位)"
      ],
      "metadata": {
        "colab": {
          "base_uri": "https://localhost:8080/"
        },
        "id": "sqGYeJUGo2lX",
        "outputId": "1f237792-e639-4c3b-c209-c73bf7ae0314"
      },
      "execution_count": 17,
      "outputs": [
        {
          "output_type": "stream",
          "name": "stdout",
          "text": [
            "愛你77\n"
          ]
        }
      ]
    },
    {
      "cell_type": "code",
      "source": [
        "#完成"
      ],
      "metadata": {
        "id": "6kDciZcSpSxX"
      },
      "execution_count": null,
      "outputs": []
    },
    {
      "cell_type": "code",
      "source": [
        "#練習return"
      ],
      "metadata": {
        "id": "_FlCKp7jqXtK"
      },
      "execution_count": null,
      "outputs": []
    },
    {
      "cell_type": "code",
      "source": [
        "def find_max(num1, num2, num3):\n",
        "#如函式return回傳加在這裡，print出來的只會有return後值(無return值的話print出來的是max值\\n (none))\n",
        "  if num1>=num2 and num1>=num3:\n",
        "    print(num1)\n",
        "  elif num2>=num1 and num2>=num3:\n",
        "    print(num2)\n",
        "  else:\n",
        "    print(num3)\n",
        "    \n",
        "  return \n",
        "print(\"晚安\")"
      ],
      "metadata": {
        "colab": {
          "base_uri": "https://localhost:8080/"
        },
        "id": "EnjF3yDUqxdX",
        "outputId": "42c51294-20ac-48b0-c99d-cbe232306af2"
      },
      "execution_count": 35,
      "outputs": [
        {
          "output_type": "stream",
          "name": "stdout",
          "text": [
            "晚安\n"
          ]
        }
      ]
    },
    {
      "cell_type": "code",
      "source": [
        "find_max(11,27,88)"
      ],
      "metadata": {
        "colab": {
          "base_uri": "https://localhost:8080/"
        },
        "id": "oFSBI44ereNk",
        "outputId": "4deb95df-6c03-4239-9974-104f00c43204"
      },
      "execution_count": 36,
      "outputs": [
        {
          "output_type": "stream",
          "name": "stdout",
          "text": [
            "88\n"
          ]
        }
      ]
    },
    {
      "cell_type": "code",
      "source": [
        "#完成"
      ],
      "metadata": {
        "id": "pgftAZfZrZ-E"
      },
      "execution_count": null,
      "outputs": []
    },
    {
      "cell_type": "code",
      "source": [],
      "metadata": {
        "id": "PkUjmxg8qwWy"
      },
      "execution_count": null,
      "outputs": []
    }
  ]
}