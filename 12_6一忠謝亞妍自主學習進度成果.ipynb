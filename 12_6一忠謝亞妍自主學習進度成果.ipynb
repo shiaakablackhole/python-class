{
  "nbformat": 4,
  "nbformat_minor": 0,
  "metadata": {
    "colab": {
      "provenance": [],
      "authorship_tag": "ABX9TyPtk2oebrES5fVzqhLYYhfY",
      "include_colab_link": true
    },
    "kernelspec": {
      "name": "python3",
      "display_name": "Python 3"
    },
    "language_info": {
      "name": "python"
    }
  },
  "cells": [
    {
      "cell_type": "markdown",
      "metadata": {
        "id": "view-in-github",
        "colab_type": "text"
      },
      "source": [
        "<a href=\"https://colab.research.google.com/github/shiaakablackhole/python-class/blob/main/12_6%E4%B8%80%E5%BF%A0%E8%AC%9D%E4%BA%9E%E5%A6%8D%E8%87%AA%E4%B8%BB%E5%AD%B8%E7%BF%92%E9%80%B2%E5%BA%A6%E6%88%90%E6%9E%9C.ipynb\" target=\"_parent\"><img src=\"https://colab.research.google.com/assets/colab-badge.svg\" alt=\"Open In Colab\"/></a>"
      ]
    },
    {
      "cell_type": "markdown",
      "source": [
        "#測驗一"
      ],
      "metadata": {
        "id": "QVmSiT5Favww"
      }
    },
    {
      "cell_type": "code",
      "execution_count": 1,
      "metadata": {
        "id": "NnaEChFnaj7o"
      },
      "outputs": [],
      "source": [
        "def find_max(num1, num2, num3):\n",
        "#如函式return回傳加在這裡，print出來的只會有return後值(無return值的話print出來的是max值\\n (none))\n",
        "  if num1>=num2 and num1>=num3:\n",
        "    print(num1)\n",
        "  elif num2>=num1 and num2>=num3:\n",
        "    print(num2)\n",
        "  else:\n",
        "    print(num3)\n",
        "\n",
        "  return   \"這裡回傳\""
      ]
    },
    {
      "cell_type": "code",
      "source": [
        "find_max(266,1022,200)"
      ],
      "metadata": {
        "colab": {
          "base_uri": "https://localhost:8080/",
          "height": 55
        },
        "id": "QcGLD88CbGD5",
        "outputId": "176cd85f-87a5-46b1-d9ce-4c081f63b47d"
      },
      "execution_count": 2,
      "outputs": [
        {
          "output_type": "stream",
          "name": "stdout",
          "text": [
            "1022\n"
          ]
        },
        {
          "output_type": "execute_result",
          "data": {
            "text/plain": [
              "'這裡回傳'"
            ],
            "application/vnd.google.colaboratory.intrinsic+json": {
              "type": "string"
            }
          },
          "metadata": {},
          "execution_count": 2
        }
      ]
    },
    {
      "cell_type": "markdown",
      "source": [
        "#函式回傳"
      ],
      "metadata": {
        "id": "kF3JUt3-cNOq"
      }
    },
    {
      "cell_type": "code",
      "source": [
        "num=round(2.233,2)"
      ],
      "metadata": {
        "id": "KrxcQmQScS5n"
      },
      "execution_count": 3,
      "outputs": []
    },
    {
      "cell_type": "code",
      "source": [
        "print(num)"
      ],
      "metadata": {
        "colab": {
          "base_uri": "https://localhost:8080/"
        },
        "id": "I7ex-uZJcbks",
        "outputId": "a9ce9566-0011-4437-f806-465c3c49d52e"
      },
      "execution_count": 4,
      "outputs": [
        {
          "output_type": "stream",
          "name": "stdout",
          "text": [
            "2.23\n"
          ]
        }
      ]
    },
    {
      "cell_type": "code",
      "source": [
        "max=find_max(273,289,111)\n",
        "print(max)"
      ],
      "metadata": {
        "colab": {
          "base_uri": "https://localhost:8080/"
        },
        "id": "Y_4EWZJIcmJy",
        "outputId": "2466feca-2dd3-4380-8a26-f1fe340c6a84"
      },
      "execution_count": 5,
      "outputs": [
        {
          "output_type": "stream",
          "name": "stdout",
          "text": [
            "289\n",
            "這裡回傳\n"
          ]
        }
      ]
    },
    {
      "cell_type": "code",
      "source": [
        "def find_max(num1, num2, num3):\n",
        "#如函式return回傳加在這裡，print出來的只會有return後值(無return值的話print出來的是max值\\n (none))\n",
        "  if type(num1)!=int or type(num2)!=int or type(num3)!=int:\n",
        "    return \"請輸入整數\"\n",
        "  if num1>=num2 and num1>=num3:\n",
        "    return num1\n",
        "  elif num2>=num1 and num2>=num3:\n",
        "    return num2\n",
        "  else:\n",
        "    return num3\n",
        "\n",
        "  return   \"這裡回傳\""
      ],
      "metadata": {
        "id": "uNV5VmJxgYpF"
      },
      "execution_count": 6,
      "outputs": []
    },
    {
      "cell_type": "code",
      "source": [
        "find_max(17,22,5)"
      ],
      "metadata": {
        "colab": {
          "base_uri": "https://localhost:8080/"
        },
        "id": "EWaXd7dKhjYh",
        "outputId": "3371b53f-94f3-41a4-e32f-a2b238c935f6"
      },
      "execution_count": 7,
      "outputs": [
        {
          "output_type": "execute_result",
          "data": {
            "text/plain": [
              "22"
            ]
          },
          "metadata": {},
          "execution_count": 7
        }
      ]
    },
    {
      "cell_type": "code",
      "source": [
        "#bool float int"
      ],
      "metadata": {
        "id": "qzZKmriUhZmI"
      },
      "execution_count": 8,
      "outputs": []
    },
    {
      "cell_type": "markdown",
      "source": [
        "#測驗二"
      ],
      "metadata": {
        "id": "esYBPygqhZPi"
      }
    },
    {
      "cell_type": "code",
      "source": [
        "def find_min(num1, num2, num3):\n",
        "  if num1<=num2 and num1<=num3:\n",
        "    return num1\n",
        "  elif num2<=num1 and num2<=num3:\n",
        "    return num2\n",
        "  else:\n",
        "    return num3\n",
        "\n",
        "  return   \"這裡回傳\""
      ],
      "metadata": {
        "id": "gdzBez8TiLES"
      },
      "execution_count": 9,
      "outputs": []
    },
    {
      "cell_type": "code",
      "source": [
        "def max_min(num1, num2, num3):\n",
        " if type(num1)!=int or type(num2)!=int or type(num3)!=int:\n",
        "    return \"請輸入整數\"\n",
        " else:\n",
        "  return find_max(num1,num2,num3)- find_min(num1,num2,num3)"
      ],
      "metadata": {
        "id": "JwERAVy8jQYJ"
      },
      "execution_count": 10,
      "outputs": []
    },
    {
      "cell_type": "code",
      "source": [
        "num=find_max(25,\"阿阿\",28)\n",
        "print(num)"
      ],
      "metadata": {
        "colab": {
          "base_uri": "https://localhost:8080/"
        },
        "id": "JhSo_PQdiK4t",
        "outputId": "3abbe31b-9909-4e4e-fb30-62493ae1400e"
      },
      "execution_count": 11,
      "outputs": [
        {
          "output_type": "stream",
          "name": "stdout",
          "text": [
            "請輸入整數\n"
          ]
        }
      ]
    },
    {
      "cell_type": "markdown",
      "source": [
        "#project4"
      ],
      "metadata": {
        "id": "z2HbW50EgYRC"
      }
    },
    {
      "cell_type": "code",
      "source": [
        "#BMR基礎代謝率BMI TDEE總熱量消耗"
      ],
      "metadata": {
        "id": "CdbMTOtliKco"
      },
      "execution_count": 12,
      "outputs": []
    },
    {
      "cell_type": "code",
      "source": [
        "def get_bmi(height,weight):\n",
        "  height=height/100\n",
        "  BMI=weight/height**2\n",
        "  BMI=round(BMI,1)\n",
        "  print(f\"你的BMI是:{BMI}\")\n",
        "  return bmi\n",
        "\n",
        "def get_bmr(sex,height,weight,age):\n",
        "  if sex==\"男\":\n",
        "    bmr=66+13.7*weight+5*height- 6.8*age\n",
        "  else:\n",
        "    bmr=655+9.6*weight+1.8*height- 4.7*age\n",
        "    bmr=round(bmr,2)\n",
        "    return bmr\n",
        "def get_tdee(sex,height,weight,age,times):\n",
        "  bmr=get_bmr(sex,height,weight,age)\n",
        "  tdee=bmr*times\n",
        "  round(tdee,2)\n",
        "  return tdee "
      ],
      "metadata": {
        "id": "RzAYmFnilIM1"
      },
      "execution_count": 20,
      "outputs": []
    }
  ]
}