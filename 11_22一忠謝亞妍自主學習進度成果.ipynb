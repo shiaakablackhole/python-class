{
  "nbformat": 4,
  "nbformat_minor": 0,
  "metadata": {
    "colab": {
      "provenance": [],
      "authorship_tag": "ABX9TyOSRnCwaadFnKQ79Li2Wby8",
      "include_colab_link": true
    },
    "kernelspec": {
      "name": "python3",
      "display_name": "Python 3"
    },
    "language_info": {
      "name": "python"
    }
  },
  "cells": [
    {
      "cell_type": "markdown",
      "metadata": {
        "id": "view-in-github",
        "colab_type": "text"
      },
      "source": [
        "<a href=\"https://colab.research.google.com/github/shiaakablackhole/python-class/blob/main/11_22%E4%B8%80%E5%BF%A0%E8%AC%9D%E4%BA%9E%E5%A6%8D%E8%87%AA%E4%B8%BB%E5%AD%B8%E7%BF%92%E9%80%B2%E5%BA%A6%E6%88%90%E6%9E%9C.ipynb\" target=\"_parent\"><img src=\"https://colab.research.google.com/assets/colab-badge.svg\" alt=\"Open In Colab\"/></a>"
      ]
    },
    {
      "cell_type": "markdown",
      "source": [
        "#測驗一\n"
      ],
      "metadata": {
        "id": "Mh7stz7UWHJE"
      }
    },
    {
      "cell_type": "code",
      "source": [
        "num=int(input(\"請輸入一個整數\\n\"))"
      ],
      "metadata": {
        "colab": {
          "base_uri": "https://localhost:8080/"
        },
        "id": "mI1Z6TNxWMYR",
        "outputId": "cdd5a584-f2fb-4a7a-9690-6762d61468e6"
      },
      "execution_count": null,
      "outputs": [
        {
          "name": "stdout",
          "output_type": "stream",
          "text": [
            "請輸入一個整數\n",
            "5\n"
          ]
        }
      ]
    },
    {
      "cell_type": "code",
      "source": [
        "if num%2==0:\n",
        "  print(\"偶數\")\n",
        "else: \n",
        "  print(\"奇數\")"
      ],
      "metadata": {
        "colab": {
          "base_uri": "https://localhost:8080/"
        },
        "id": "51t0sdOCWkMO",
        "outputId": "daa631be-9bb0-4018-e8c2-3f74925458cc"
      },
      "execution_count": null,
      "outputs": [
        {
          "output_type": "stream",
          "name": "stdout",
          "text": [
            "奇數\n"
          ]
        }
      ]
    },
    {
      "cell_type": "markdown",
      "source": [
        "#elif&nested if"
      ],
      "metadata": {
        "id": "s43KOkurXECR"
      }
    },
    {
      "cell_type": "code",
      "source": [
        "#否則如果\n",
        "score=100\n",
        "cheat=True\n",
        "if score>90:\n",
        "  if cheat:\n",
        "      print(\"作弊不給錢\")\n",
        "  else:\n",
        "      print(\"我就給你100元\")\n",
        "elif score>80:\n",
        "  print(\"我給你50元\")\n",
        "elif score>70:\n",
        "  print(\"我給你10元\")\n",
        "else:\n",
        "  print(\"你給我100元\") "
      ],
      "metadata": {
        "colab": {
          "base_uri": "https://localhost:8080/"
        },
        "id": "xTLA9z0hXLdM",
        "outputId": "2ade1d0b-79b5-4eb6-b941-34ffe1eb91e4"
      },
      "execution_count": null,
      "outputs": [
        {
          "output_type": "stream",
          "name": "stdout",
          "text": [
            "作弊不給錢\n"
          ]
        }
      ]
    },
    {
      "cell_type": "markdown",
      "source": [
        "#測驗2(?!)"
      ],
      "metadata": {
        "id": "9ZeCD84zZg1I"
      }
    },
    {
      "cell_type": "code",
      "source": [
        "height=float(input(\"請輸入您的身高(公分)\\n\"))\n",
        "weight=float(input(\"請輸入您的體重(公斤)\\n\"))"
      ],
      "metadata": {
        "colab": {
          "base_uri": "https://localhost:8080/"
        },
        "id": "fRLK1wTxZgjx",
        "outputId": "31f109bf-acd1-47b0-ab00-5f146d0f01c3"
      },
      "execution_count": null,
      "outputs": [
        {
          "name": "stdout",
          "output_type": "stream",
          "text": [
            "請輸入您的身高(公分)\n",
            "165\n",
            "請輸入您的體重(公斤)\n",
            "68\n"
          ]
        }
      ]
    },
    {
      "cell_type": "code",
      "source": [
        "height=height/100"
      ],
      "metadata": {
        "id": "IlRiC-dWYQgs"
      },
      "execution_count": null,
      "outputs": []
    },
    {
      "cell_type": "code",
      "source": [
        "BMI=(float)(weight/(height*height))\n"
      ],
      "metadata": {
        "id": "VBLmJMG9B_b4"
      },
      "execution_count": null,
      "outputs": []
    },
    {
      "cell_type": "code",
      "source": [
        "BMI=round(BMI,1)"
      ],
      "metadata": {
        "id": "pi28RF3wCCsI"
      },
      "execution_count": null,
      "outputs": []
    },
    {
      "cell_type": "code",
      "source": [
        "print(BMI)"
      ],
      "metadata": {
        "colab": {
          "base_uri": "https://localhost:8080/"
        },
        "id": "Sr4VpQByCE5o",
        "outputId": "dadfdf8f-c966-4c42-d6f6-3f9b1d6f4e63"
      },
      "execution_count": null,
      "outputs": [
        {
          "output_type": "stream",
          "name": "stdout",
          "text": [
            "25.0\n"
          ]
        }
      ]
    },
    {
      "cell_type": "code",
      "source": [
        "if (BMI<=18.5):\n",
        "    print(f\"你的BMI是:{BMI}(體重過輕)\")\n",
        "elif (BMI<=24):\n",
        "    print(f\"你的BMI是:{BMI}(體位正常)\")\n",
        "elif (BMI<=27):\n",
        "    print(f\"你的BMI是:{BMI}(輕度肥胖)\")\n",
        "elif BMI<=30:\n",
        "    print(f\"你的BMI是:{BMI}(中度肥胖)\")\n",
        "else:\n",
        "    print(f\"你的BMI是:{BMI}(重度肥胖)\")"
      ],
      "metadata": {
        "colab": {
          "base_uri": "https://localhost:8080/"
        },
        "id": "8aZUxiDTayhe",
        "outputId": "a52fced3-1777-4e2d-d650-dbb3e9e896d1"
      },
      "execution_count": null,
      "outputs": [
        {
          "output_type": "stream",
          "name": "stdout",
          "text": [
            "你的BMI是:25.0(輕度肥胖)\n"
          ]
        }
      ]
    },
    {
      "cell_type": "markdown",
      "source": [
        "#運算邏輯and or not"
      ],
      "metadata": {
        "id": "fs_pfuyOdcBD"
      }
    },
    {
      "cell_type": "code",
      "source": [
        "score1=80\n",
        "score2=100"
      ],
      "metadata": {
        "id": "DQFVfKywdcYs"
      },
      "execution_count": null,
      "outputs": []
    },
    {
      "cell_type": "code",
      "source": [
        "if score1==100 and score2==100:\n",
        "  print(\"我給你錢錢\")\n",
        "  print(\"我們粗門門\")"
      ],
      "metadata": {
        "id": "uCrS9Oprd692"
      },
      "execution_count": null,
      "outputs": []
    },
    {
      "cell_type": "code",
      "source": [
        "if score1==100 or score2==100:\n",
        "  print(\"我給你錢錢\")\n",
        "  print(\"我們粗門門\")\n",
        "else:\n",
        "  print(\"都沒考100分\")"
      ],
      "metadata": {
        "colab": {
          "base_uri": "https://localhost:8080/"
        },
        "id": "gVklfgxqfFHg",
        "outputId": "ddcb2523-4c58-40e6-c083-5ef0d9ceec14"
      },
      "execution_count": null,
      "outputs": [
        {
          "output_type": "stream",
          "name": "stdout",
          "text": [
            "我給你錢錢\n",
            "我們粗門門\n"
          ]
        }
      ]
    },
    {
      "cell_type": "code",
      "source": [
        "if not score1==100 :\n",
        "  print(\"你給我100元\")\n",
        "else:\n",
        "  print(\"都沒考100分\")"
      ],
      "metadata": {
        "id": "I3WKV-PKsYZL",
        "colab": {
          "base_uri": "https://localhost:8080/"
        },
        "outputId": "9bb0ad3f-7085-479d-9811-642072107287"
      },
      "execution_count": null,
      "outputs": [
        {
          "output_type": "stream",
          "name": "stdout",
          "text": [
            "你給我100元\n"
          ]
        }
      ]
    },
    {
      "cell_type": "code",
      "source": [
        "if not score1!=100 :\n",
        "  print(\"你給我100元\")\n",
        "else:\n",
        "  print(\"都沒考100分\")"
      ],
      "metadata": {
        "colab": {
          "base_uri": "https://localhost:8080/"
        },
        "id": "gIYCT4oTs4Uk",
        "outputId": "0d4ad853-fbe6-4ef2-a3de-e95cebf4ffd0"
      },
      "execution_count": null,
      "outputs": [
        {
          "output_type": "stream",
          "name": "stdout",
          "text": [
            "都沒考100分\n"
          ]
        }
      ]
    }
  ]
}