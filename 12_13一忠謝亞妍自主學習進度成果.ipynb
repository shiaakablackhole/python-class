{
  "nbformat": 4,
  "nbformat_minor": 0,
  "metadata": {
    "colab": {
      "provenance": [],
      "authorship_tag": "ABX9TyMxqnJxFSRV1mKjAYeD9oiU",
      "include_colab_link": true
    },
    "kernelspec": {
      "name": "python3",
      "display_name": "Python 3"
    },
    "language_info": {
      "name": "python"
    }
  },
  "cells": [
    {
      "cell_type": "markdown",
      "metadata": {
        "id": "view-in-github",
        "colab_type": "text"
      },
      "source": [
        "<a href=\"https://colab.research.google.com/github/shiaakablackhole/python-class/blob/main/12_13%E4%B8%80%E5%BF%A0%E8%AC%9D%E4%BA%9E%E5%A6%8D%E8%87%AA%E4%B8%BB%E5%AD%B8%E7%BF%92%E9%80%B2%E5%BA%A6%E6%88%90%E6%9E%9C.ipynb\" target=\"_parent\"><img src=\"https://colab.research.google.com/assets/colab-badge.svg\" alt=\"Open In Colab\"/></a>"
      ]
    },
    {
      "cell_type": "markdown",
      "source": [
        "#測驗一"
      ],
      "metadata": {
        "id": "QVmSiT5Favww"
      }
    },
    {
      "cell_type": "code",
      "execution_count": 1,
      "metadata": {
        "id": "NnaEChFnaj7o"
      },
      "outputs": [],
      "source": [
        "def find_max(num1, num2, num3):\n",
        "#如函式return回傳加在這裡，print出來的只會有return後值(無return值的話print出來的是max值\\n (none))\n",
        "  if num1>=num2 and num1>=num3:\n",
        "    print(num1)\n",
        "  elif num2>=num1 and num2>=num3:\n",
        "    print(num2)\n",
        "  else:\n",
        "    print(num3)\n",
        "\n",
        "  return   \"這裡回傳\"\n"
      ]
    },
    {
      "cell_type": "code",
      "source": [
        "find_max(266,1022,200)"
      ],
      "metadata": {
        "colab": {
          "base_uri": "https://localhost:8080/",
          "height": 53
        },
        "id": "QcGLD88CbGD5",
        "outputId": "b43a1796-2b82-48ff-8716-5ff9984c15c3"
      },
      "execution_count": 2,
      "outputs": [
        {
          "output_type": "stream",
          "name": "stdout",
          "text": [
            "1022\n"
          ]
        },
        {
          "output_type": "execute_result",
          "data": {
            "text/plain": [
              "'這裡回傳'"
            ],
            "application/vnd.google.colaboratory.intrinsic+json": {
              "type": "string"
            }
          },
          "metadata": {},
          "execution_count": 2
        }
      ]
    },
    {
      "cell_type": "markdown",
      "source": [
        "#函式回傳"
      ],
      "metadata": {
        "id": "kF3JUt3-cNOq"
      }
    },
    {
      "cell_type": "code",
      "source": [
        "num=round(2.233,2)"
      ],
      "metadata": {
        "id": "KrxcQmQScS5n"
      },
      "execution_count": 3,
      "outputs": []
    },
    {
      "cell_type": "code",
      "source": [
        "print(num)"
      ],
      "metadata": {
        "colab": {
          "base_uri": "https://localhost:8080/"
        },
        "id": "I7ex-uZJcbks",
        "outputId": "b11a5ec0-67b5-4269-bfd4-b9636d3fd816"
      },
      "execution_count": 4,
      "outputs": [
        {
          "output_type": "stream",
          "name": "stdout",
          "text": [
            "2.23\n"
          ]
        }
      ]
    },
    {
      "cell_type": "code",
      "source": [
        "max=find_max(273,289,111)\n",
        "print(max)"
      ],
      "metadata": {
        "colab": {
          "base_uri": "https://localhost:8080/"
        },
        "id": "Y_4EWZJIcmJy",
        "outputId": "ff5a8ec2-00f4-42e9-bb37-8186cf2adaf8"
      },
      "execution_count": 5,
      "outputs": [
        {
          "output_type": "stream",
          "name": "stdout",
          "text": [
            "289\n",
            "這裡回傳\n"
          ]
        }
      ]
    },
    {
      "cell_type": "code",
      "source": [
        "def find_max(num1, num2, num3):\n",
        "#如函式return回傳加在這裡，print出來的只會有return後值(無return值的話print出來的是max值\\n (none))\n",
        "  if type(num1)!=int or type(num2)!=int or type(num3)!=int:\n",
        "    return \"請輸入整數\"\n",
        "  if num1>=num2 and num1>=num3:\n",
        "    return num1\n",
        "  elif num2>=num1 and num2>=num3:\n",
        "    return num2\n",
        "  else:\n",
        "    return num3\n",
        "\n",
        "  return   \"這裡回傳\""
      ],
      "metadata": {
        "id": "uNV5VmJxgYpF"
      },
      "execution_count": 6,
      "outputs": []
    },
    {
      "cell_type": "code",
      "source": [
        "find_max(17,22,5)"
      ],
      "metadata": {
        "colab": {
          "base_uri": "https://localhost:8080/"
        },
        "id": "EWaXd7dKhjYh",
        "outputId": "f386bd53-c8fe-4856-f32e-3d0559ada8fc"
      },
      "execution_count": 7,
      "outputs": [
        {
          "output_type": "execute_result",
          "data": {
            "text/plain": [
              "22"
            ]
          },
          "metadata": {},
          "execution_count": 7
        }
      ]
    },
    {
      "cell_type": "code",
      "source": [
        "#bool float int"
      ],
      "metadata": {
        "id": "qzZKmriUhZmI"
      },
      "execution_count": 8,
      "outputs": []
    },
    {
      "cell_type": "markdown",
      "source": [
        "#測驗二"
      ],
      "metadata": {
        "id": "esYBPygqhZPi"
      }
    },
    {
      "cell_type": "code",
      "source": [
        "def find_min(num1, num2, num3):\n",
        "  if num1<=num2 and num1<=num3:\n",
        "    return num1\n",
        "  elif num2<=num1 and num2<=num3:\n",
        "    return num2\n",
        "  else:\n",
        "    return num3\n",
        "\n",
        "  return   \"這裡回傳\""
      ],
      "metadata": {
        "id": "gdzBez8TiLES"
      },
      "execution_count": 9,
      "outputs": []
    },
    {
      "cell_type": "code",
      "source": [
        "def max_min(num1, num2, num3):\n",
        " if type(num1)!=int or type(num2)!=int or type(num3)!=int:\n",
        "    return \"請輸入整數\"\n",
        " else:\n",
        "  return find_max(num1,num2,num3)- find_min(num1,num2,num3)"
      ],
      "metadata": {
        "id": "JwERAVy8jQYJ"
      },
      "execution_count": 10,
      "outputs": []
    },
    {
      "cell_type": "code",
      "source": [
        "num=find_max(25,\"阿阿\",28)\n",
        "print(num)"
      ],
      "metadata": {
        "colab": {
          "base_uri": "https://localhost:8080/"
        },
        "id": "JhSo_PQdiK4t",
        "outputId": "276e5b35-5154-487f-cc97-8a89ac3056fd"
      },
      "execution_count": 11,
      "outputs": [
        {
          "output_type": "stream",
          "name": "stdout",
          "text": [
            "請輸入整數\n"
          ]
        }
      ]
    },
    {
      "cell_type": "markdown",
      "source": [
        "#project4"
      ],
      "metadata": {
        "id": "z2HbW50EgYRC"
      }
    },
    {
      "cell_type": "code",
      "source": [
        "#BMR基礎代謝率BMI TDEE總熱量消耗"
      ],
      "metadata": {
        "id": "CdbMTOtliKco"
      },
      "execution_count": 12,
      "outputs": []
    },
    {
      "cell_type": "code",
      "source": [
        "def get_bmi(height,weight):\n",
        "  height=height/100\n",
        "  BMI=weight/height**2\n",
        "  BMI=round(BMI,1)\n",
        "  print(f\"你的BMI是:{BMI}\")\n",
        "  return bmi\n",
        "\n",
        "def get_bmr(sex,height,weight,age):\n",
        "  if sex==\"男\":\n",
        "    bmr=66+13.7*weight+5*height- 6.8*age\n",
        "  else:\n",
        "    bmr=655+9.6*weight+1.8*height- 4.7*age\n",
        "    bmr=round(bmr,2)\n",
        "    return bmr\n",
        "def get_tdee(sex,height,weight,age,times):\n",
        "  bmr=get_bmr(sex,height,weight,age)\n",
        "  tdee=bmr*times\n",
        "  round(tdee,2)\n",
        "  return tdee "
      ],
      "metadata": {
        "id": "RzAYmFnilIM1"
      },
      "execution_count": 13,
      "outputs": []
    },
    {
      "cell_type": "code",
      "source": [
        "from typing import Iterator\n",
        "print(\"歡迎使用健康綜合計算機~\")\n",
        "print(\"(1)計算bmi\")\n",
        "print(\"(2)計算基礎代謝率(bmr)\")\n",
        "print(\"(3)計算總熱量消耗(tdee)\")\n",
        "number=input(\"請輸入要計算的項目(輸入1 or 2 or 3)\")\n",
        "if number==\"1\":\n",
        "  height=float(input(\"請輸入您的身高(公分)\"))\n",
        "  weight=float(input(\"請輸入您的體重(公斤)\"))\n",
        "  bmi= get_bmi(height,weight)\n",
        "  print(f\"您的bmi:{bmi}\")\n",
        "elif number==\"2\":\n",
        "  sex=input(\"請輸入您的性別(男 or 女)\")\n",
        "  height=float(input(\"請輸入您的身高(公分)\"))\n",
        "  weight=float(input(\"請輸入您的體重(公斤)\"))\n",
        "  age=int(input(\"請輸入您的年齡\"))\n",
        "  bmr= get_bmr(sex,height,weight,age)\n",
        "  print(f\"您的基礎代謝率(bmr):{bmr}\")\n",
        "elif number==\"3\":\n",
        "   sex=input(\"請輸入您的性別(男 or 女)\")\n",
        "   height=float(input(\"請輸入您的身高(公分)\"))\n",
        "   weight=float(input(\"請輸入您的體重(公斤)\"))\n",
        "   age=int(input(\"請輸入您的年齡\"))\n",
        "   print(\"(1)久坐、幾乎沒有運動\")\n",
        "   print(\"(2)每週低強度運動1~3天\")\n",
        "   print(\"(3)每週中強度運動3~5天\")\n",
        "   print(\"(4)每週高強度運動6~7天\")\n",
        "   print(\"(5)勞力密集工作或是每天高強度訓練\")\n",
        "   exer=input(\"請輸入您的運動量(請輸入1~5)\")\n",
        "   times=0\n",
        "   if exer==\"1\":\n",
        "     times=1.2\n",
        "   elif exer==\"2\":\n",
        "     times=1.375\n",
        "   elif exer==\"3\":\n",
        "     times=1.55\n",
        "   elif exer==\"4\":\n",
        "     times=1.75\n",
        "   else:\n",
        "     times=1.9\n",
        "   tdee= get_tdee(sex,height,weight,age,times)\n",
        "   print(f\"您的總熱量消耗:{tdee}\")"
      ],
      "metadata": {
        "colab": {
          "base_uri": "https://localhost:8080/"
        },
        "id": "pOxoLUIAeXzh",
        "outputId": "fdb0f10e-1831-4e40-f9ac-fa49853660eb"
      },
      "execution_count": 22,
      "outputs": [
        {
          "output_type": "stream",
          "name": "stdout",
          "text": [
            "歡迎使用健康綜合計算機~\n",
            "(1)計算bmi\n",
            "(2)計算基礎代謝率(bmr)\n",
            "(3)計算總熱量消耗(tdee)\n",
            "請輸入要計算的項目(輸入1 or 2 or 3)3\n",
            "請輸入您的性別(男 or 女)女\n",
            "請輸入您的身高(公分)165\n",
            "請輸入您的體重(公斤)68\n",
            "請輸入您的年齡15\n",
            "(1)久坐、幾乎沒有運動\n",
            "(2)每週低強度運動1~3天\n",
            "(3)每週中強度運動3~5天\n",
            "(4)每週高強度運動6~7天\n",
            "(5)勞力密集工作或是每天高強度訓練\n",
            "請輸入您的運動量(請輸入1~5)2\n",
            "您的總熱量消耗:2109.6625\n"
          ]
        }
      ]
    },
    {
      "cell_type": "markdown",
      "source": [
        "#剪刀、石頭、布"
      ],
      "metadata": {
        "id": "v8TPSwpWk3gV"
      }
    },
    {
      "cell_type": "code",
      "source": [],
      "metadata": {
        "id": "APss00IqeZBF"
      },
      "execution_count": null,
      "outputs": []
    }
  ]
}